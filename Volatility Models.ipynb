{
 "cells": [
  {
   "cell_type": "code",
   "execution_count": null,
   "id": "3e7397a3",
   "metadata": {},
   "outputs": [],
   "source": [
    "from keras.models import Sequential\n",
    "from keras.layers import Dense, Activation, LeakyReLU, ELU, BatchNormalization\n",
    "from keras import backend\n",
    "from keras.callbacks import TensorBoard\n",
    "from keras.optimizers import Adam, SGD\n",
    "import tensorflow as tf\n",
    "import pandas as pd\n",
    "import numpy as np\n",
    "from sklearn.model_selection import train_test_split\n",
    "import matplotlib.pyplot as plt\n",
    "import statsmodels.api as sm"
   ]
  },
  {
   "cell_type": "code",
   "execution_count": 2,
   "id": "36dd9829",
   "metadata": {},
   "outputs": [],
   "source": [
    "data = pd.read_csv(\"betterSimulation2.csv\", index_col=0)"
   ]
  },
  {
   "cell_type": "code",
   "execution_count": 3,
   "id": "82827f87",
   "metadata": {},
   "outputs": [],
   "source": [
    "Y = data[\"sigma\"]\n",
    "X = data.drop(columns=[\"sigma\"], axis=1)"
   ]
  },
  {
   "cell_type": "code",
   "execution_count": 4,
   "id": "88e53636",
   "metadata": {},
   "outputs": [],
   "source": [
    "X_train, X_test, y_train, y_test = train_test_split(X, Y, test_size=0.1, random_state=42)"
   ]
  },
  {
   "cell_type": "code",
   "execution_count": 21,
   "id": "5a85b626",
   "metadata": {},
   "outputs": [],
   "source": [
    "model = Sequential()"
   ]
  },
  {
   "cell_type": "code",
   "execution_count": 22,
   "id": "8e156459",
   "metadata": {},
   "outputs": [],
   "source": [
    "model.add(Dense(200, input_dim=X_train.shape[1]))\n",
    "model.add(BatchNormalization())\n",
    "model.add(LeakyReLU())\n",
    "model.add(Dense(200))\n",
    "model.add(BatchNormalization())\n",
    "model.add(ELU())\n",
    "model.add(Dense(200))\n",
    "model.add(BatchNormalization())\n",
    "model.add(ELU())\n",
    "model.add(Dense(1, activation='relu'))\n",
    "model.compile(optimizer=Adam(learning_rate=0.01), loss=\"mae\")"
   ]
  },
  {
   "cell_type": "code",
   "execution_count": 23,
   "id": "73454add",
   "metadata": {},
   "outputs": [
    {
     "name": "stdout",
     "output_type": "stream",
     "text": [
      "Model: \"sequential_3\"\n",
      "_________________________________________________________________\n",
      " Layer (type)                Output Shape              Param #   \n",
      "=================================================================\n",
      " dense_16 (Dense)            (None, 200)               1200      \n",
      "                                                                 \n",
      " batch_normalization_9 (Batc  (None, 200)              800       \n",
      " hNormalization)                                                 \n",
      "                                                                 \n",
      " leaky_re_lu_4 (LeakyReLU)   (None, 200)               0         \n",
      "                                                                 \n",
      " dense_17 (Dense)            (None, 200)               40200     \n",
      "                                                                 \n",
      " batch_normalization_10 (Bat  (None, 200)              800       \n",
      " chNormalization)                                                \n",
      "                                                                 \n",
      " elu_8 (ELU)                 (None, 200)               0         \n",
      "                                                                 \n",
      " dense_18 (Dense)            (None, 200)               40200     \n",
      "                                                                 \n",
      " batch_normalization_11 (Bat  (None, 200)              800       \n",
      " chNormalization)                                                \n",
      "                                                                 \n",
      " elu_9 (ELU)                 (None, 200)               0         \n",
      "                                                                 \n",
      " dense_19 (Dense)            (None, 1)                 201       \n",
      "                                                                 \n",
      "=================================================================\n",
      "Total params: 84,201\n",
      "Trainable params: 83,001\n",
      "Non-trainable params: 1,200\n",
      "_________________________________________________________________\n"
     ]
    }
   ],
   "source": [
    "model.summary()"
   ]
  },
  {
   "cell_type": "code",
   "execution_count": 24,
   "id": "86562a5c",
   "metadata": {},
   "outputs": [
    {
     "name": "stdout",
     "output_type": "stream",
     "text": [
      "Epoch 1/30\n"
     ]
    },
    {
     "name": "stderr",
     "output_type": "stream",
     "text": [
      "/Users/ezreal/opt/anaconda3/envs/deep_learning/lib/python3.10/site-packages/keras/engine/data_adapter.py:1699: FutureWarning: The behavior of `series[i:j]` with an integer-dtype index is deprecated. In a future version, this will be treated as *label-based* indexing, consistent with e.g. `series[i]` lookups. To retain the old behavior, use `series.iloc[i:j]`. To get the future behavior, use `series.loc[i:j]`.\n",
      "  return t[start:end]\n"
     ]
    },
    {
     "name": "stdout",
     "output_type": "stream",
     "text": [
      "238/238 [==============================] - 4s 12ms/step - loss: 0.2331 - val_loss: 0.2357\n",
      "Epoch 2/30\n",
      "238/238 [==============================] - 3s 11ms/step - loss: 0.1299 - val_loss: 0.1309\n",
      "Epoch 3/30\n",
      "238/238 [==============================] - 3s 12ms/step - loss: 0.1221 - val_loss: 0.1778\n",
      "Epoch 4/30\n",
      "238/238 [==============================] - 3s 11ms/step - loss: 0.1116 - val_loss: 0.1454\n",
      "Epoch 5/30\n",
      "238/238 [==============================] - 3s 12ms/step - loss: 0.1104 - val_loss: 0.1322\n",
      "Epoch 6/30\n",
      "238/238 [==============================] - 3s 12ms/step - loss: 0.1071 - val_loss: 0.1429\n",
      "Epoch 7/30\n",
      "238/238 [==============================] - 3s 11ms/step - loss: 0.1044 - val_loss: 0.1429\n",
      "Epoch 8/30\n",
      "238/238 [==============================] - 3s 12ms/step - loss: 0.0997 - val_loss: 0.1172\n",
      "Epoch 9/30\n",
      "238/238 [==============================] - 3s 11ms/step - loss: 0.0973 - val_loss: 0.1487\n",
      "Epoch 10/30\n",
      "238/238 [==============================] - 2s 10ms/step - loss: 0.1018 - val_loss: 0.1981\n",
      "Epoch 11/30\n",
      "238/238 [==============================] - 2s 10ms/step - loss: 0.0949 - val_loss: 0.1106\n",
      "Epoch 12/30\n",
      "238/238 [==============================] - 3s 11ms/step - loss: 0.0922 - val_loss: 0.1029\n",
      "Epoch 13/30\n",
      "238/238 [==============================] - 3s 11ms/step - loss: 0.0912 - val_loss: 0.1426\n",
      "Epoch 14/30\n",
      "238/238 [==============================] - 3s 11ms/step - loss: 0.0907 - val_loss: 0.0865\n",
      "Epoch 15/30\n",
      "238/238 [==============================] - 3s 12ms/step - loss: 0.0872 - val_loss: 0.1170\n",
      "Epoch 16/30\n",
      "238/238 [==============================] - 3s 11ms/step - loss: 0.0875 - val_loss: 0.1320\n",
      "Epoch 17/30\n",
      "238/238 [==============================] - 3s 12ms/step - loss: 0.0860 - val_loss: 0.1598\n",
      "Epoch 18/30\n",
      "238/238 [==============================] - 3s 11ms/step - loss: 0.0856 - val_loss: 0.1337\n",
      "Epoch 19/30\n",
      "238/238 [==============================] - 3s 11ms/step - loss: 0.0825 - val_loss: 0.1643\n",
      "Epoch 20/30\n",
      "238/238 [==============================] - 3s 11ms/step - loss: 0.0846 - val_loss: 0.0885\n",
      "Epoch 21/30\n",
      "238/238 [==============================] - 3s 11ms/step - loss: 0.0831 - val_loss: 0.1288\n",
      "Epoch 22/30\n",
      "238/238 [==============================] - 3s 11ms/step - loss: 0.0831 - val_loss: 0.1656\n",
      "Epoch 23/30\n",
      "238/238 [==============================] - 3s 11ms/step - loss: 0.0831 - val_loss: 0.1146\n",
      "Epoch 24/30\n",
      "238/238 [==============================] - 3s 12ms/step - loss: 0.0791 - val_loss: 0.1360\n",
      "Epoch 25/30\n",
      "238/238 [==============================] - 3s 11ms/step - loss: 0.0796 - val_loss: 0.1402\n",
      "Epoch 26/30\n",
      "238/238 [==============================] - 3s 12ms/step - loss: 0.0798 - val_loss: 0.1082\n",
      "Epoch 27/30\n",
      "238/238 [==============================] - 3s 12ms/step - loss: 0.0781 - val_loss: 0.1388\n",
      "Epoch 28/30\n",
      "238/238 [==============================] - 3s 11ms/step - loss: 0.0781 - val_loss: 0.0961\n",
      "Epoch 29/30\n",
      "238/238 [==============================] - 3s 11ms/step - loss: 0.0783 - val_loss: 0.0930\n",
      "Epoch 30/30\n",
      "238/238 [==============================] - 3s 11ms/step - loss: 0.0760 - val_loss: 0.1500\n"
     ]
    }
   ],
   "source": [
    "history = model.fit(X_train, y_train,\n",
    "                    batch_size=1024, epochs=30,\n",
    "                    validation_split = 0.1,\n",
    "                    callbacks=[TensorBoard()],\n",
    "                    verbose=1)"
   ]
  },
  {
   "cell_type": "code",
   "execution_count": 32,
   "id": "a2a12eda",
   "metadata": {},
   "outputs": [
    {
     "data": {
      "image/png": "[encoded data removed]",
      "text/plain": [
       "<Figure size 640x480 with 1 Axes>"
      ]
     },
     "metadata": {},
     "output_type": "display_data"
    }
   ],
   "source": [
    "train_loss = history.history['loss']\n",
    "val_loss = history.history['val_loss']\n",
    "plt.plot(train_loss, label='Training loss')\n",
    "plt.plot(val_loss, label='Validation loss')\n",
    "plt.xlabel('Epoch')\n",
    "plt.ylabel('Loss')\n",
    "plt.legend()\n",
    "plt.show()\n",
    "\n"
   ]
  },
  {
   "cell_type": "code",
   "execution_count": 27,
   "id": "e5d9813b",
   "metadata": {},
   "outputs": [
    {
     "name": "stdout",
     "output_type": "stream",
     "text": [
      "938/938 [==============================] - 2s 1ms/step\n"
     ]
    }
   ],
   "source": [
    "y_pred = model.predict(X_test)"
   ]
  },
  {
   "cell_type": "code",
   "execution_count": 28,
   "id": "1f10f281",
   "metadata": {},
   "outputs": [
    {
     "data": {
      "text/html": [
       "<div>\n",
       "<style scoped>\n",
       "    .dataframe tbody tr th:only-of-type {\n",
       "        vertical-align: middle;\n",
       "    }\n",
       "\n",
       "    .dataframe tbody tr th {\n",
       "        vertical-align: top;\n",
       "    }\n",
       "\n",
       "    .dataframe thead th {\n",
       "        text-align: right;\n",
       "    }\n",
       "</style>\n",
       "<table border=\"1\" class=\"dataframe\">\n",
       "  <thead>\n",
       "    <tr style=\"text-align: right;\">\n",
       "      <th></th>\n",
       "      <th>0</th>\n",
       "    </tr>\n",
       "  </thead>\n",
       "  <tbody>\n",
       "    <tr>\n",
       "      <th>0</th>\n",
       "      <td>0.000000</td>\n",
       "    </tr>\n",
       "    <tr>\n",
       "      <th>1</th>\n",
       "      <td>0.552274</td>\n",
       "    </tr>\n",
       "    <tr>\n",
       "      <th>2</th>\n",
       "      <td>0.797006</td>\n",
       "    </tr>\n",
       "    <tr>\n",
       "      <th>3</th>\n",
       "      <td>0.417451</td>\n",
       "    </tr>\n",
       "    <tr>\n",
       "      <th>4</th>\n",
       "      <td>0.000000</td>\n",
       "    </tr>\n",
       "    <tr>\n",
       "      <th>...</th>\n",
       "      <td>...</td>\n",
       "    </tr>\n",
       "    <tr>\n",
       "      <th>29995</th>\n",
       "      <td>0.097612</td>\n",
       "    </tr>\n",
       "    <tr>\n",
       "      <th>29996</th>\n",
       "      <td>0.676669</td>\n",
       "    </tr>\n",
       "    <tr>\n",
       "      <th>29997</th>\n",
       "      <td>0.443242</td>\n",
       "    </tr>\n",
       "    <tr>\n",
       "      <th>29998</th>\n",
       "      <td>0.042116</td>\n",
       "    </tr>\n",
       "    <tr>\n",
       "      <th>29999</th>\n",
       "      <td>0.843349</td>\n",
       "    </tr>\n",
       "  </tbody>\n",
       "</table>\n",
       "<p>30000 rows × 1 columns</p>\n",
       "</div>"
      ],
      "text/plain": [
       "              0\n",
       "0      0.000000\n",
       "1      0.552274\n",
       "2      0.797006\n",
       "3      0.417451\n",
       "4      0.000000\n",
       "...         ...\n",
       "29995  0.097612\n",
       "29996  0.676669\n",
       "29997  0.443242\n",
       "29998  0.042116\n",
       "29999  0.843349\n",
       "\n",
       "[30000 rows x 1 columns]"
      ]
     },
     "execution_count": 28,
     "metadata": {},
     "output_type": "execute_result"
    }
   ],
   "source": [
    "pd.DataFrame(y_pred)"
   ]
  },
  {
   "cell_type": "code",
   "execution_count": 30,
   "id": "8cb10eaf",
   "metadata": {},
   "outputs": [
    {
     "data": {
      "text/html": [
       "<div>\n",
       "<style scoped>\n",
       "    .dataframe tbody tr th:only-of-type {\n",
       "        vertical-align: middle;\n",
       "    }\n",
       "\n",
       "    .dataframe tbody tr th {\n",
       "        vertical-align: top;\n",
       "    }\n",
       "\n",
       "    .dataframe thead th {\n",
       "        text-align: right;\n",
       "    }\n",
       "</style>\n",
       "<table border=\"1\" class=\"dataframe\">\n",
       "  <thead>\n",
       "    <tr style=\"text-align: right;\">\n",
       "      <th></th>\n",
       "      <th>sigma</th>\n",
       "    </tr>\n",
       "  </thead>\n",
       "  <tbody>\n",
       "    <tr>\n",
       "      <th>4941</th>\n",
       "      <td>0.676768</td>\n",
       "    </tr>\n",
       "    <tr>\n",
       "      <th>51775</th>\n",
       "      <td>0.573737</td>\n",
       "    </tr>\n",
       "    <tr>\n",
       "      <th>115253</th>\n",
       "      <td>0.857071</td>\n",
       "    </tr>\n",
       "    <tr>\n",
       "      <th>299321</th>\n",
       "      <td>0.462121</td>\n",
       "    </tr>\n",
       "    <tr>\n",
       "      <th>173570</th>\n",
       "      <td>0.376263</td>\n",
       "    </tr>\n",
       "    <tr>\n",
       "      <th>...</th>\n",
       "      <td>...</td>\n",
       "    </tr>\n",
       "    <tr>\n",
       "      <th>199500</th>\n",
       "      <td>0.118687</td>\n",
       "    </tr>\n",
       "    <tr>\n",
       "      <th>244038</th>\n",
       "      <td>0.470707</td>\n",
       "    </tr>\n",
       "    <tr>\n",
       "      <th>79446</th>\n",
       "      <td>0.427778</td>\n",
       "    </tr>\n",
       "    <tr>\n",
       "      <th>276390</th>\n",
       "      <td>0.479293</td>\n",
       "    </tr>\n",
       "    <tr>\n",
       "      <th>144864</th>\n",
       "      <td>0.324747</td>\n",
       "    </tr>\n",
       "  </tbody>\n",
       "</table>\n",
       "<p>30000 rows × 1 columns</p>\n",
       "</div>"
      ],
      "text/plain": [
       "           sigma\n",
       "4941    0.676768\n",
       "51775   0.573737\n",
       "115253  0.857071\n",
       "299321  0.462121\n",
       "173570  0.376263\n",
       "...          ...\n",
       "199500  0.118687\n",
       "244038  0.470707\n",
       "79446   0.427778\n",
       "276390  0.479293\n",
       "144864  0.324747\n",
       "\n",
       "[30000 rows x 1 columns]"
      ]
     },
     "execution_count": 30,
     "metadata": {},
     "output_type": "execute_result"
    }
   ],
   "source": [
    "pd.DataFrame(y_test)"
   ]
  },
  {
   "cell_type": "code",
   "execution_count": 31,
   "id": "43d6bf4b",
   "metadata": {},
   "outputs": [
    {
     "data": {
      "text/html": [
       "<div>\n",
       "<style scoped>\n",
       "    .dataframe tbody tr th:only-of-type {\n",
       "        vertical-align: middle;\n",
       "    }\n",
       "\n",
       "    .dataframe tbody tr th {\n",
       "        vertical-align: top;\n",
       "    }\n",
       "\n",
       "    .dataframe thead th {\n",
       "        text-align: right;\n",
       "    }\n",
       "</style>\n",
       "<table border=\"1\" class=\"dataframe\">\n",
       "  <thead>\n",
       "    <tr style=\"text-align: right;\">\n",
       "      <th></th>\n",
       "      <th>S</th>\n",
       "      <th>K</th>\n",
       "      <th>T</th>\n",
       "      <th>r</th>\n",
       "      <th>call_price</th>\n",
       "    </tr>\n",
       "  </thead>\n",
       "  <tbody>\n",
       "    <tr>\n",
       "      <th>4941</th>\n",
       "      <td>429.369369</td>\n",
       "      <td>90.496037</td>\n",
       "      <td>0.584557</td>\n",
       "      <td>0.016465</td>\n",
       "      <td>3.397743e+02</td>\n",
       "    </tr>\n",
       "    <tr>\n",
       "      <th>51775</th>\n",
       "      <td>217.967968</td>\n",
       "      <td>335.488643</td>\n",
       "      <td>2.369123</td>\n",
       "      <td>0.023131</td>\n",
       "      <td>4.909617e+01</td>\n",
       "    </tr>\n",
       "    <tr>\n",
       "      <th>115253</th>\n",
       "      <td>401.411411</td>\n",
       "      <td>334.361935</td>\n",
       "      <td>1.177465</td>\n",
       "      <td>0.029596</td>\n",
       "      <td>1.722013e+02</td>\n",
       "    </tr>\n",
       "    <tr>\n",
       "      <th>299321</th>\n",
       "      <td>266.036036</td>\n",
       "      <td>136.840740</td>\n",
       "      <td>2.894854</td>\n",
       "      <td>0.011414</td>\n",
       "      <td>1.481076e+02</td>\n",
       "    </tr>\n",
       "    <tr>\n",
       "      <th>173570</th>\n",
       "      <td>406.806807</td>\n",
       "      <td>146.447501</td>\n",
       "      <td>0.727673</td>\n",
       "      <td>0.028384</td>\n",
       "      <td>2.633649e+02</td>\n",
       "    </tr>\n",
       "    <tr>\n",
       "      <th>...</th>\n",
       "      <td>...</td>\n",
       "      <td>...</td>\n",
       "      <td>...</td>\n",
       "      <td>...</td>\n",
       "      <td>...</td>\n",
       "    </tr>\n",
       "    <tr>\n",
       "      <th>199500</th>\n",
       "      <td>244.944945</td>\n",
       "      <td>104.499591</td>\n",
       "      <td>0.876630</td>\n",
       "      <td>0.010000</td>\n",
       "      <td>1.413574e+02</td>\n",
       "    </tr>\n",
       "    <tr>\n",
       "      <th>244038</th>\n",
       "      <td>78.178178</td>\n",
       "      <td>501.743813</td>\n",
       "      <td>1.387758</td>\n",
       "      <td>0.023535</td>\n",
       "      <td>1.360923e-02</td>\n",
       "    </tr>\n",
       "    <tr>\n",
       "      <th>79446</th>\n",
       "      <td>62.482482</td>\n",
       "      <td>50.777940</td>\n",
       "      <td>0.161051</td>\n",
       "      <td>0.018889</td>\n",
       "      <td>1.237094e+01</td>\n",
       "    </tr>\n",
       "    <tr>\n",
       "      <th>276390</th>\n",
       "      <td>265.055055</td>\n",
       "      <td>53.484341</td>\n",
       "      <td>1.688593</td>\n",
       "      <td>0.023737</td>\n",
       "      <td>2.137637e+02</td>\n",
       "    </tr>\n",
       "    <tr>\n",
       "      <th>144864</th>\n",
       "      <td>55.125125</td>\n",
       "      <td>264.416743</td>\n",
       "      <td>0.561191</td>\n",
       "      <td>0.026566</td>\n",
       "      <td>3.746512e-10</td>\n",
       "    </tr>\n",
       "  </tbody>\n",
       "</table>\n",
       "<p>30000 rows × 5 columns</p>\n",
       "</div>"
      ],
      "text/plain": [
       "                 S           K         T         r    call_price\n",
       "4941    429.369369   90.496037  0.584557  0.016465  3.397743e+02\n",
       "51775   217.967968  335.488643  2.369123  0.023131  4.909617e+01\n",
       "115253  401.411411  334.361935  1.177465  0.029596  1.722013e+02\n",
       "299321  266.036036  136.840740  2.894854  0.011414  1.481076e+02\n",
       "173570  406.806807  146.447501  0.727673  0.028384  2.633649e+02\n",
       "...            ...         ...       ...       ...           ...\n",
       "199500  244.944945  104.499591  0.876630  0.010000  1.413574e+02\n",
       "244038   78.178178  501.743813  1.387758  0.023535  1.360923e-02\n",
       "79446    62.482482   50.777940  0.161051  0.018889  1.237094e+01\n",
       "276390  265.055055   53.484341  1.688593  0.023737  2.137637e+02\n",
       "144864   55.125125  264.416743  0.561191  0.026566  3.746512e-10\n",
       "\n",
       "[30000 rows x 5 columns]"
      ]
     },
     "execution_count": 31,
     "metadata": {},
     "output_type": "execute_result"
    }
   ],
   "source": [
    "X_test"
   ]
  },
  {
   "cell_type": "code",
   "execution_count": 41,
   "id": "69ea1dcc",
   "metadata": {},
   "outputs": [
    {
     "data": {
      "text/plain": [
       "array([0.67676768, 0.57373737, 0.85707071, ..., 0.42777778, 0.47929293,\n",
       "       0.32474747])"
      ]
     },
     "execution_count": 41,
     "metadata": {},
     "output_type": "execute_result"
    }
   ],
   "source": [
    "y_test.values"
   ]
  },
  {
   "cell_type": "code",
   "execution_count": 44,
   "id": "d8501636",
   "metadata": {},
   "outputs": [
    {
     "data": {
      "text/plain": [
       "0.09027865260084621"
      ]
     },
     "execution_count": 44,
     "metadata": {},
     "output_type": "execute_result"
    }
   ],
   "source": [
    "np.mean(np.abs(y_test.values - y_pred.reshape(y_test.shape)))"
   ]
  },
  {
   "cell_type": "code",
   "execution_count": 45,
   "id": "5d6fb70a",
   "metadata": {},
   "outputs": [
    {
     "data": {
      "text/html": [
       "<div>\n",
       "<style scoped>\n",
       "    .dataframe tbody tr th:only-of-type {\n",
       "        vertical-align: middle;\n",
       "    }\n",
       "\n",
       "    .dataframe tbody tr th {\n",
       "        vertical-align: top;\n",
       "    }\n",
       "\n",
       "    .dataframe thead th {\n",
       "        text-align: right;\n",
       "    }\n",
       "</style>\n",
       "<table border=\"1\" class=\"dataframe\">\n",
       "  <thead>\n",
       "    <tr style=\"text-align: right;\">\n",
       "      <th></th>\n",
       "      <th>S</th>\n",
       "      <th>K</th>\n",
       "      <th>T</th>\n",
       "      <th>r</th>\n",
       "      <th>call_price</th>\n",
       "    </tr>\n",
       "  </thead>\n",
       "  <tbody>\n",
       "    <tr>\n",
       "      <th>4941</th>\n",
       "      <td>429.369369</td>\n",
       "      <td>90.496037</td>\n",
       "      <td>0.584557</td>\n",
       "      <td>0.016465</td>\n",
       "      <td>3.397743e+02</td>\n",
       "    </tr>\n",
       "    <tr>\n",
       "      <th>51775</th>\n",
       "      <td>217.967968</td>\n",
       "      <td>335.488643</td>\n",
       "      <td>2.369123</td>\n",
       "      <td>0.023131</td>\n",
       "      <td>4.909617e+01</td>\n",
       "    </tr>\n",
       "    <tr>\n",
       "      <th>115253</th>\n",
       "      <td>401.411411</td>\n",
       "      <td>334.361935</td>\n",
       "      <td>1.177465</td>\n",
       "      <td>0.029596</td>\n",
       "      <td>1.722013e+02</td>\n",
       "    </tr>\n",
       "    <tr>\n",
       "      <th>299321</th>\n",
       "      <td>266.036036</td>\n",
       "      <td>136.840740</td>\n",
       "      <td>2.894854</td>\n",
       "      <td>0.011414</td>\n",
       "      <td>1.481076e+02</td>\n",
       "    </tr>\n",
       "    <tr>\n",
       "      <th>173570</th>\n",
       "      <td>406.806807</td>\n",
       "      <td>146.447501</td>\n",
       "      <td>0.727673</td>\n",
       "      <td>0.028384</td>\n",
       "      <td>2.633649e+02</td>\n",
       "    </tr>\n",
       "    <tr>\n",
       "      <th>...</th>\n",
       "      <td>...</td>\n",
       "      <td>...</td>\n",
       "      <td>...</td>\n",
       "      <td>...</td>\n",
       "      <td>...</td>\n",
       "    </tr>\n",
       "    <tr>\n",
       "      <th>199500</th>\n",
       "      <td>244.944945</td>\n",
       "      <td>104.499591</td>\n",
       "      <td>0.876630</td>\n",
       "      <td>0.010000</td>\n",
       "      <td>1.413574e+02</td>\n",
       "    </tr>\n",
       "    <tr>\n",
       "      <th>244038</th>\n",
       "      <td>78.178178</td>\n",
       "      <td>501.743813</td>\n",
       "      <td>1.387758</td>\n",
       "      <td>0.023535</td>\n",
       "      <td>1.360923e-02</td>\n",
       "    </tr>\n",
       "    <tr>\n",
       "      <th>79446</th>\n",
       "      <td>62.482482</td>\n",
       "      <td>50.777940</td>\n",
       "      <td>0.161051</td>\n",
       "      <td>0.018889</td>\n",
       "      <td>1.237094e+01</td>\n",
       "    </tr>\n",
       "    <tr>\n",
       "      <th>276390</th>\n",
       "      <td>265.055055</td>\n",
       "      <td>53.484341</td>\n",
       "      <td>1.688593</td>\n",
       "      <td>0.023737</td>\n",
       "      <td>2.137637e+02</td>\n",
       "    </tr>\n",
       "    <tr>\n",
       "      <th>144864</th>\n",
       "      <td>55.125125</td>\n",
       "      <td>264.416743</td>\n",
       "      <td>0.561191</td>\n",
       "      <td>0.026566</td>\n",
       "      <td>3.746512e-10</td>\n",
       "    </tr>\n",
       "  </tbody>\n",
       "</table>\n",
       "<p>30000 rows × 5 columns</p>\n",
       "</div>"
      ],
      "text/plain": [
       "                 S           K         T         r    call_price\n",
       "4941    429.369369   90.496037  0.584557  0.016465  3.397743e+02\n",
       "51775   217.967968  335.488643  2.369123  0.023131  4.909617e+01\n",
       "115253  401.411411  334.361935  1.177465  0.029596  1.722013e+02\n",
       "299321  266.036036  136.840740  2.894854  0.011414  1.481076e+02\n",
       "173570  406.806807  146.447501  0.727673  0.028384  2.633649e+02\n",
       "...            ...         ...       ...       ...           ...\n",
       "199500  244.944945  104.499591  0.876630  0.010000  1.413574e+02\n",
       "244038   78.178178  501.743813  1.387758  0.023535  1.360923e-02\n",
       "79446    62.482482   50.777940  0.161051  0.018889  1.237094e+01\n",
       "276390  265.055055   53.484341  1.688593  0.023737  2.137637e+02\n",
       "144864   55.125125  264.416743  0.561191  0.026566  3.746512e-10\n",
       "\n",
       "[30000 rows x 5 columns]"
      ]
     },
     "execution_count": 45,
     "metadata": {},
     "output_type": "execute_result"
    }
   ],
   "source": [
    "X_test"
   ]
  },
  {
   "cell_type": "code",
   "execution_count": 46,
   "id": "58d0c619",
   "metadata": {},
   "outputs": [
    {
     "data": {
      "text/plain": [
       "array([0.42568514, 0.00187833, 0.00482199, ..., 0.07747288, 0.27138236,\n",
       "       0.31070021])"
      ]
     },
     "execution_count": 46,
     "metadata": {},
     "output_type": "execute_result"
    }
   ],
   "source": [
    "np.abs(y_test.values - y_pred.reshape(y_test.shape))"
   ]
  },
  {
   "cell_type": "code",
   "execution_count": 34,
   "id": "50ca5500",
   "metadata": {},
   "outputs": [
    {
     "ename": "NameError",
     "evalue": "name 'sm' is not defined",
     "output_type": "error",
     "traceback": [
      "\u001b[0;31m---------------------------------------------------------------------------\u001b[0m",
      "\u001b[0;31mNameError\u001b[0m                                 Traceback (most recent call last)",
      "Cell \u001b[0;32mIn[34], line 2\u001b[0m\n\u001b[1;32m      1\u001b[0m \u001b[38;5;66;03m#perform regression analysis \u001b[39;00m\n\u001b[0;32m----> 2\u001b[0m T \u001b[38;5;241m=\u001b[39m \u001b[43msm\u001b[49m\u001b[38;5;241m.\u001b[39madd_constant(data[\u001b[38;5;124m\"\u001b[39m\u001b[38;5;124mT\u001b[39m\u001b[38;5;124m\"\u001b[39m])\n\u001b[1;32m      3\u001b[0m sigma \u001b[38;5;241m=\u001b[39m np\u001b[38;5;241m.\u001b[39mabs(y_test\u001b[38;5;241m.\u001b[39mvalues \u001b[38;5;241m-\u001b[39m y_pred\u001b[38;5;241m.\u001b[39mreshape(y_test\u001b[38;5;241m.\u001b[39mshape))\n\u001b[1;32m      4\u001b[0m model \u001b[38;5;241m=\u001b[39m sm\u001b[38;5;241m.\u001b[39mOLS(sigma,T)\n",
      "\u001b[0;31mNameError\u001b[0m: name 'sm' is not defined"
     ]
    }
   ],
   "source": [
    "#perform regression analysis \n",
    "T = sm.add_constant(data[\"T\"])\n",
    "sigma = np.abs(y_test.values - y_pred.reshape(y_test.shape))\n",
    "model = sm.OLS(sigma,T)\n",
    "results = model.fit()"
   ]
  },
  {
   "cell_type": "code",
   "execution_count": null,
   "id": "c99dbcd3",
   "metadata": {},
   "outputs": [],
   "source": []
  }
 ],
 "metadata": {
  "kernelspec": {
   "display_name": "Python 3 (ipykernel)",
   "language": "python",
   "name": "python3"
  },
  "language_info": {
   "codemirror_mode": {
    "name": "ipython",
    "version": 3
   },
   "file_extension": ".py",
   "mimetype": "text/x-python",
   "name": "python",
   "nbconvert_exporter": "python",
   "pygments_lexer": "ipython3",
   "version": "3.9.16"
  }
 },
 "nbformat": 4,
 "nbformat_minor": 5
}
