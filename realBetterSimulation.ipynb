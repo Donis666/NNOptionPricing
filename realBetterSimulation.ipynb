{
 "cells": [
  {
   "cell_type": "code",
   "execution_count": 13,
   "id": "2d0edcf9",
   "metadata": {},
   "outputs": [],
   "source": [
    "from math import log, sqrt, pi, exp\n",
    "from scipy.stats import norm\n",
    "from datetime import datetime, date\n",
    "import numpy as np\n",
    "import pandas as pd\n",
    "from pandas import DataFrame"
   ]
  },
  {
   "cell_type": "code",
   "execution_count": 14,
   "id": "0c422ec5",
   "metadata": {},
   "outputs": [],
   "source": [
    "def d1(S,K,T,r,sigma):\n",
    "    return(log(S/K)+(r+sigma**2/2.)*T)/(sigma*sqrt(T))\n",
    "def d2(S,K,T,r,sigma):\n",
    "    return d1(S,K,T,r,sigma)-sigma*sqrt(T)\n",
    "\n",
    "\n",
    "def bs_call(S,K,T,r,sigma):\n",
    "    return S*norm.cdf(d1(S,K,T,r,sigma))-K*exp(-r*T)*norm.cdf(d2(S,K,T,r,sigma))\n",
    "\n",
    "def bs_put(S,K,T,r,sigma):\n",
    "    return K*exp(-r*T)-S*bs_call(S,K,T,r,sigma)"
   ]
  },
  {
   "cell_type": "code",
   "execution_count": 15,
   "id": "eef91dda",
   "metadata": {},
   "outputs": [],
   "source": [
    "S = np.linspace(10, 500, num = 1000)\n",
    "T = np.linspace(30/365, 3, num= 1000)\n",
    "r = np.linspace(0.01, 0.03, num=100)\n",
    "sigma = np.linspace(0.05, 0.9, num=100)\n",
    "l = [S, T, r, sigma]"
   ]
  },
  {
   "cell_type": "code",
   "execution_count": 16,
   "id": "e01385e7",
   "metadata": {},
   "outputs": [],
   "source": [
    "param_List = []\n",
    "for i in range(300000):\n",
    "    params = []\n",
    "    for p in l:\n",
    "        params.append(np.random.choice(p))\n",
    "    \n",
    "    #compute a reasonable strike price\n",
    "    t = np.random.choice(T)\n",
    "    q = np.random.choice(np.linspace(-0.03, 0.03, num = 1000))\n",
    "    params.append(params[0] * np.exp(t * q))\n",
    "    \n",
    "    param_List.append(params)"
   ]
  },
  {
   "cell_type": "code",
   "execution_count": 17,
   "id": "f381d40f",
   "metadata": {},
   "outputs": [],
   "source": [
    "data = param_List\n",
    "for i in range(len(data)):\n",
    "    S = data[i][0]\n",
    "    K = data[i][-1]\n",
    "    T = data[i][1]\n",
    "    r = data[i][2]\n",
    "    sigma = data[i][3]\n",
    "    data[i].append(bs_call(S, K, T, r, sigma))"
   ]
  },
  {
   "cell_type": "code",
   "execution_count": 19,
   "id": "61a47e14",
   "metadata": {},
   "outputs": [
    {
     "data": {
      "text/plain": [
       "[282.7127127127127,\n",
       " 0.7481179809946934,\n",
       " 0.015656565656565657,\n",
       " 0.8227272727272728,\n",
       " 273.19239053164205,\n",
       " 83.33647181834117]"
      ]
     },
     "execution_count": 19,
     "metadata": {},
     "output_type": "execute_result"
    }
   ],
   "source": [
    "data[0]"
   ]
  },
  {
   "cell_type": "code",
   "execution_count": 20,
   "id": "187ef239",
   "metadata": {},
   "outputs": [],
   "source": [
    "df = pd.DataFrame(data)\n",
    "df.columns = [\"S\",\"T\", \"r\", \"sigma\", \"K\",'call_price']\n",
    "df.to_csv(\"realbetterSimulation.csv\")"
   ]
  },
  {
   "cell_type": "code",
   "execution_count": 21,
   "id": "2547247c",
   "metadata": {},
   "outputs": [
    {
     "data": {
      "text/html": [
       "<div>\n",
       "<style scoped>\n",
       "    .dataframe tbody tr th:only-of-type {\n",
       "        vertical-align: middle;\n",
       "    }\n",
       "\n",
       "    .dataframe tbody tr th {\n",
       "        vertical-align: top;\n",
       "    }\n",
       "\n",
       "    .dataframe thead th {\n",
       "        text-align: right;\n",
       "    }\n",
       "</style>\n",
       "<table border=\"1\" class=\"dataframe\">\n",
       "  <thead>\n",
       "    <tr style=\"text-align: right;\">\n",
       "      <th></th>\n",
       "      <th>S</th>\n",
       "      <th>T</th>\n",
       "      <th>r</th>\n",
       "      <th>sigma</th>\n",
       "      <th>K</th>\n",
       "      <th>call_price</th>\n",
       "    </tr>\n",
       "  </thead>\n",
       "  <tbody>\n",
       "    <tr>\n",
       "      <th>0</th>\n",
       "      <td>282.712713</td>\n",
       "      <td>0.748118</td>\n",
       "      <td>0.015657</td>\n",
       "      <td>0.822727</td>\n",
       "      <td>273.192391</td>\n",
       "      <td>83.336472</td>\n",
       "    </tr>\n",
       "    <tr>\n",
       "      <th>1</th>\n",
       "      <td>89.949950</td>\n",
       "      <td>0.818215</td>\n",
       "      <td>0.022525</td>\n",
       "      <td>0.762626</td>\n",
       "      <td>95.871483</td>\n",
       "      <td>22.801272</td>\n",
       "    </tr>\n",
       "    <tr>\n",
       "      <th>2</th>\n",
       "      <td>151.751752</td>\n",
       "      <td>2.442141</td>\n",
       "      <td>0.019899</td>\n",
       "      <td>0.187374</td>\n",
       "      <td>154.963047</td>\n",
       "      <td>19.569793</td>\n",
       "    </tr>\n",
       "    <tr>\n",
       "      <th>3</th>\n",
       "      <td>427.407407</td>\n",
       "      <td>2.240610</td>\n",
       "      <td>0.029192</td>\n",
       "      <td>0.745455</td>\n",
       "      <td>437.937959</td>\n",
       "      <td>185.905972</td>\n",
       "    </tr>\n",
       "    <tr>\n",
       "      <th>4</th>\n",
       "      <td>173.333333</td>\n",
       "      <td>1.463697</td>\n",
       "      <td>0.026970</td>\n",
       "      <td>0.436364</td>\n",
       "      <td>162.553920</td>\n",
       "      <td>43.488878</td>\n",
       "    </tr>\n",
       "    <tr>\n",
       "      <th>...</th>\n",
       "      <td>...</td>\n",
       "      <td>...</td>\n",
       "      <td>...</td>\n",
       "      <td>...</td>\n",
       "      <td>...</td>\n",
       "      <td>...</td>\n",
       "    </tr>\n",
       "    <tr>\n",
       "      <th>299995</th>\n",
       "      <td>479.399399</td>\n",
       "      <td>0.943807</td>\n",
       "      <td>0.023131</td>\n",
       "      <td>0.410606</td>\n",
       "      <td>495.866401</td>\n",
       "      <td>73.397892</td>\n",
       "    </tr>\n",
       "    <tr>\n",
       "      <th>299996</th>\n",
       "      <td>471.061061</td>\n",
       "      <td>1.335184</td>\n",
       "      <td>0.018081</td>\n",
       "      <td>0.831313</td>\n",
       "      <td>469.759418</td>\n",
       "      <td>177.820352</td>\n",
       "    </tr>\n",
       "    <tr>\n",
       "      <th>299997</th>\n",
       "      <td>113.983984</td>\n",
       "      <td>0.800691</td>\n",
       "      <td>0.020505</td>\n",
       "      <td>0.367677</td>\n",
       "      <td>118.247969</td>\n",
       "      <td>13.905482</td>\n",
       "    </tr>\n",
       "    <tr>\n",
       "      <th>299998</th>\n",
       "      <td>46.296296</td>\n",
       "      <td>1.747007</td>\n",
       "      <td>0.029192</td>\n",
       "      <td>0.161616</td>\n",
       "      <td>44.549462</td>\n",
       "      <td>6.074606</td>\n",
       "    </tr>\n",
       "    <tr>\n",
       "      <th>299999</th>\n",
       "      <td>44.824825</td>\n",
       "      <td>1.232959</td>\n",
       "      <td>0.012424</td>\n",
       "      <td>0.754040</td>\n",
       "      <td>44.789562</td>\n",
       "      <td>14.790918</td>\n",
       "    </tr>\n",
       "  </tbody>\n",
       "</table>\n",
       "<p>300000 rows × 6 columns</p>\n",
       "</div>"
      ],
      "text/plain": [
       "                 S         T         r     sigma           K  call_price\n",
       "0       282.712713  0.748118  0.015657  0.822727  273.192391   83.336472\n",
       "1        89.949950  0.818215  0.022525  0.762626   95.871483   22.801272\n",
       "2       151.751752  2.442141  0.019899  0.187374  154.963047   19.569793\n",
       "3       427.407407  2.240610  0.029192  0.745455  437.937959  185.905972\n",
       "4       173.333333  1.463697  0.026970  0.436364  162.553920   43.488878\n",
       "...            ...       ...       ...       ...         ...         ...\n",
       "299995  479.399399  0.943807  0.023131  0.410606  495.866401   73.397892\n",
       "299996  471.061061  1.335184  0.018081  0.831313  469.759418  177.820352\n",
       "299997  113.983984  0.800691  0.020505  0.367677  118.247969   13.905482\n",
       "299998   46.296296  1.747007  0.029192  0.161616   44.549462    6.074606\n",
       "299999   44.824825  1.232959  0.012424  0.754040   44.789562   14.790918\n",
       "\n",
       "[300000 rows x 6 columns]"
      ]
     },
     "execution_count": 21,
     "metadata": {},
     "output_type": "execute_result"
    }
   ],
   "source": [
    "df"
   ]
  },
  {
   "cell_type": "code",
   "execution_count": null,
   "id": "8fc339c3",
   "metadata": {},
   "outputs": [],
   "source": []
  }
 ],
 "metadata": {
  "kernelspec": {
   "display_name": "Python 3 (ipykernel)",
   "language": "python",
   "name": "python3"
  },
  "language_info": {
   "codemirror_mode": {
    "name": "ipython",
    "version": 3
   },
   "file_extension": ".py",
   "mimetype": "text/x-python",
   "name": "python",
   "nbconvert_exporter": "python",
   "pygments_lexer": "ipython3",
   "version": "3.10.9"
  }
 },
 "nbformat": 4,
 "nbformat_minor": 5
}
