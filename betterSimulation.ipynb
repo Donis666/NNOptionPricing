{
 "cells": [
  {
   "cell_type": "code",
   "execution_count": 1,
   "id": "c2ca1907-0aca-49a2-af36-5886f7491110",
   "metadata": {},
   "outputs": [],
   "source": [
    "from math import log, sqrt, pi, exp\n",
    "from scipy.stats import norm\n",
    "from datetime import datetime, date\n",
    "import numpy as np\n",
    "import pandas as pd\n",
    "from pandas import DataFrame\n"
   ]
  },
  {
   "cell_type": "code",
   "execution_count": 2,
   "id": "03fe6a0d-df5d-48a1-b15d-fe6f3a6093fd",
   "metadata": {},
   "outputs": [],
   "source": [
    "def d1(S,K,T,r,sigma):\n",
    "    return(log(S/K)+(r+sigma**2/2.)*T)/(sigma*sqrt(T))\n",
    "def d2(S,K,T,r,sigma):\n",
    "    return d1(S,K,T,r,sigma)-sigma*sqrt(T)\n",
    "\n",
    "\n",
    "def bs_call(S,K,T,r,sigma):\n",
    "    return S*norm.cdf(d1(S,K,T,r,sigma))-K*exp(-r*T)*norm.cdf(d2(S,K,T,r,sigma))\n",
    "\n",
    "def bs_put(S,K,T,r,sigma):\n",
    "    return K*exp(-r*T)-S*bs_call(S,K,T,r,sigma)"
   ]
  },
  {
   "cell_type": "code",
   "execution_count": 3,
   "id": "5d68f8b4-f48b-469d-9266-b2272fc9fb1f",
   "metadata": {},
   "outputs": [],
   "source": [
    "S = np.linspace(10, 500, num = 1000)\n",
    "T = np.linspace(30/365, 3, num= 1000)\n",
    "r = np.linspace(0.01, 0.03, num=100)\n",
    "sigma = np.linspace(0.05, 0.9, num=100)"
   ]
  },
  {
   "cell_type": "code",
   "execution_count": 4,
   "id": "f4f68e9e-0d39-4a1a-84cf-e3feab63a7f0",
   "metadata": {},
   "outputs": [],
   "source": [
    "np.random.seed(42)\n",
    "K = np.ones(1000)\n",
    "for i in range(1000):\n",
    "    s = S[i]\n",
    "    t = np.random.choice(T)\n",
    "    q = np.random.choice(r)\n",
    "    k = np.exp(q * t) * s\n",
    "    K[i] = k\n",
    "l = [S, K, T, r, sigma]"
   ]
  },
  {
   "cell_type": "code",
   "execution_count": 5,
   "id": "afc15c01-5f55-4c5d-be85-da84ac10a7d9",
   "metadata": {},
   "outputs": [],
   "source": [
    "param_List = []\n",
    "for i in range(300000):\n",
    "    params = []\n",
    "    for p in l:\n",
    "        params.append(np.random.choice(p))\n",
    "    param_List.append(params)\n",
    "#append parameters in parameter list, (maybe not necessary)(imporvment of performance maybe due to batch normalization not beteer simulation of data.)"
   ]
  },
  {
   "cell_type": "code",
   "execution_count": 6,
   "id": "7e1ecd43-202e-4fc0-9823-a6b45b3806ad",
   "metadata": {},
   "outputs": [],
   "source": [
    "data = param_List\n",
    "for i in range(len(data)):\n",
    "    data[i].append(bs_call(*data[i]))"
   ]
  },
  {
   "cell_type": "code",
   "execution_count": 7,
   "id": "858e6af8-02d5-46e8-b419-3426e404463b",
   "metadata": {},
   "outputs": [],
   "source": [
    "df = pd.DataFrame(data)\n",
    "df.columns = [\"S\", \"K\", \"T\", \"r\", \"sigma\", 'call_price']\n",
    "df.to_csv(\"betterSimulation.csv\")"
   ]
  },
  {
   "cell_type": "code",
   "execution_count": null,
   "id": "cbf44955",
   "metadata": {},
   "outputs": [],
   "source": []
  }
 ],
 "metadata": {
  "kernelspec": {
   "display_name": "Python 3 (ipykernel)",
   "language": "python",
   "name": "python3"
  },
  "language_info": {
   "codemirror_mode": {
    "name": "ipython",
    "version": 3
   },
   "file_extension": ".py",
   "mimetype": "text/x-python",
   "name": "python",
   "nbconvert_exporter": "python",
   "pygments_lexer": "ipython3",
   "version": "3.9.16"
  }
 },
 "nbformat": 4,
 "nbformat_minor": 5
}
