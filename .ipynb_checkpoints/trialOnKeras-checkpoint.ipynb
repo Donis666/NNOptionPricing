{
 "cells": [
  {
   "cell_type": "code",
   "execution_count": 11,
   "metadata": {
    "collapsed": true
   },
   "outputs": [],
   "source": [
    "from keras.models import Sequential\n",
    "from keras.layers import Dense, Activation, LeakyReLU, ELU\n",
    "from keras import backend\n",
    "from keras.callbacks import TensorBoard\n",
    "from keras.optimizers import Adam, SGD\n",
    "import pandas as pd\n",
    "import numpy as np\n",
    "from sklearn.model_selection import train_test_split"
   ]
  },
  {
   "cell_type": "code",
   "execution_count": 12,
   "outputs": [],
   "source": [
    "data = pd.read_csv(\"BS_Simulated_data.csv\").iloc[:,1:]"
   ],
   "metadata": {
    "collapsed": false
   }
  },
  {
   "cell_type": "code",
   "execution_count": 13,
   "outputs": [],
   "source": [
    "call_X_train, call_X_test, call_y_train, call_y_test = train_test_split(data.iloc[:,:-1], data.iloc[:,-1], test_size=0.33, random_state=42)"
   ],
   "metadata": {
    "collapsed": false
   }
  },
  {
   "cell_type": "code",
   "execution_count": 14,
   "outputs": [
    {
     "data": {
      "text/plain": "                 S           K         T         r     sigma\n50834   471.061061  124.786787  0.110749  0.024949  0.768118\n279350  243.963964  404.771772  0.206757  0.016465  0.059359\n199412  155.675676   42.400400  1.160840  0.014646  0.577528\n85326   296.936937  370.015015  0.449779  0.020707  0.294194\n231192  230.230230  126.074074  1.292852  0.024141  0.756206\n11175   470.080080  355.854855  2.543960  0.019293  0.512863\n71199   425.935936  217.471471  2.309940  0.021111  0.820871\n252960  489.209209  236.780781  2.282938  0.023535  0.127427\n259161  319.499499  413.139139  0.284764  0.014242  0.221021\n240998  190.010010  243.217217  0.938821  0.014444  0.152102",
      "text/html": "<div>\n<style scoped>\n    .dataframe tbody tr th:only-of-type {\n        vertical-align: middle;\n    }\n\n    .dataframe tbody tr th {\n        vertical-align: top;\n    }\n\n    .dataframe thead th {\n        text-align: right;\n    }\n</style>\n<table border=\"1\" class=\"dataframe\">\n  <thead>\n    <tr style=\"text-align: right;\">\n      <th></th>\n      <th>S</th>\n      <th>K</th>\n      <th>T</th>\n      <th>r</th>\n      <th>sigma</th>\n    </tr>\n  </thead>\n  <tbody>\n    <tr>\n      <th>50834</th>\n      <td>471.061061</td>\n      <td>124.786787</td>\n      <td>0.110749</td>\n      <td>0.024949</td>\n      <td>0.768118</td>\n    </tr>\n    <tr>\n      <th>279350</th>\n      <td>243.963964</td>\n      <td>404.771772</td>\n      <td>0.206757</td>\n      <td>0.016465</td>\n      <td>0.059359</td>\n    </tr>\n    <tr>\n      <th>199412</th>\n      <td>155.675676</td>\n      <td>42.400400</td>\n      <td>1.160840</td>\n      <td>0.014646</td>\n      <td>0.577528</td>\n    </tr>\n    <tr>\n      <th>85326</th>\n      <td>296.936937</td>\n      <td>370.015015</td>\n      <td>0.449779</td>\n      <td>0.020707</td>\n      <td>0.294194</td>\n    </tr>\n    <tr>\n      <th>231192</th>\n      <td>230.230230</td>\n      <td>126.074074</td>\n      <td>1.292852</td>\n      <td>0.024141</td>\n      <td>0.756206</td>\n    </tr>\n    <tr>\n      <th>11175</th>\n      <td>470.080080</td>\n      <td>355.854855</td>\n      <td>2.543960</td>\n      <td>0.019293</td>\n      <td>0.512863</td>\n    </tr>\n    <tr>\n      <th>71199</th>\n      <td>425.935936</td>\n      <td>217.471471</td>\n      <td>2.309940</td>\n      <td>0.021111</td>\n      <td>0.820871</td>\n    </tr>\n    <tr>\n      <th>252960</th>\n      <td>489.209209</td>\n      <td>236.780781</td>\n      <td>2.282938</td>\n      <td>0.023535</td>\n      <td>0.127427</td>\n    </tr>\n    <tr>\n      <th>259161</th>\n      <td>319.499499</td>\n      <td>413.139139</td>\n      <td>0.284764</td>\n      <td>0.014242</td>\n      <td>0.221021</td>\n    </tr>\n    <tr>\n      <th>240998</th>\n      <td>190.010010</td>\n      <td>243.217217</td>\n      <td>0.938821</td>\n      <td>0.014444</td>\n      <td>0.152102</td>\n    </tr>\n  </tbody>\n</table>\n</div>"
     },
     "execution_count": 14,
     "metadata": {},
     "output_type": "execute_result"
    }
   ],
   "source": [
    " call_X_train.head(10)"
   ],
   "metadata": {
    "collapsed": false
   }
  },
  {
   "cell_type": "code",
   "execution_count": 15,
   "outputs": [],
   "source": [
    "# Hyperparams\n",
    "n_units = 400\n",
    "layers = 4\n",
    "n_batch = 1024\n",
    "n_epochs = 200\n",
    "model = Sequential()"
   ],
   "metadata": {
    "collapsed": false
   }
  },
  {
   "cell_type": "code",
   "execution_count": 16,
   "outputs": [],
   "source": [
    "model.add(Dense(100, input_dim=call_X_train.shape[1]))\n",
    "model.add(LeakyReLU())\n",
    "model.add(Dense(100))\n",
    "model.add(ELU())\n",
    "model.add(Dense(100))\n",
    "model.add(ELU())\n",
    "model.add(Dense(1, activation='relu'))"
   ],
   "metadata": {
    "collapsed": false
   }
  },
  {
   "cell_type": "code",
   "execution_count": 17,
   "outputs": [],
   "source": [
    "model.compile(loss='mse', optimizer=Adam(learning_rate=0.1))"
   ],
   "metadata": {
    "collapsed": false
   }
  },
  {
   "cell_type": "code",
   "execution_count": 18,
   "outputs": [
    {
     "name": "stdout",
     "output_type": "stream",
     "text": [
      "Model: \"sequential_1\"\n",
      "_________________________________________________________________\n",
      " Layer (type)                Output Shape              Param #   \n",
      "=================================================================\n",
      " dense_4 (Dense)             (None, 100)               600       \n",
      "                                                                 \n",
      " leaky_re_lu_1 (LeakyReLU)   (None, 100)               0         \n",
      "                                                                 \n",
      " dense_5 (Dense)             (None, 100)               10100     \n",
      "                                                                 \n",
      " elu_2 (ELU)                 (None, 100)               0         \n",
      "                                                                 \n",
      " dense_6 (Dense)             (None, 100)               10100     \n",
      "                                                                 \n",
      " elu_3 (ELU)                 (None, 100)               0         \n",
      "                                                                 \n",
      " dense_7 (Dense)             (None, 1)                 101       \n",
      "                                                                 \n",
      "=================================================================\n",
      "Total params: 20,901\n",
      "Trainable params: 20,901\n",
      "Non-trainable params: 0\n",
      "_________________________________________________________________\n"
     ]
    }
   ],
   "source": [
    "model.summary()"
   ],
   "metadata": {
    "collapsed": false
   }
  },
  {
   "cell_type": "code",
   "execution_count": 19,
   "outputs": [
    {
     "name": "stdout",
     "output_type": "stream",
     "text": [
      "Epoch 1/10\n"
     ]
    },
    {
     "name": "stderr",
     "output_type": "stream",
     "text": [
      "/Users/macongcong/opt/anaconda3/envs/tensorflow_silicon/lib/python3.9/site-packages/keras/engine/data_adapter.py:1696: FutureWarning: The behavior of `series[i:j]` with an integer-dtype index is deprecated. In a future version, this will be treated as *label-based* indexing, consistent with e.g. `series[i]` lookups. To retain the old behavior, use `series.iloc[i:j]`. To get the future behavior, use `series.loc[i:j]`.\n",
      "  return t[start:end]\n",
      "2023-02-19 10:26:48.179990: I tensorflow/core/grappler/optimizers/custom_graph_optimizer_registry.cc:114] Plugin optimizer for device_type GPU is enabled.\n"
     ]
    },
    {
     "name": "stdout",
     "output_type": "stream",
     "text": [
      "3110/3110 [==============================] - 32s 10ms/step - loss: 19121.4883 - val_loss: 19683.6191\n",
      "Epoch 2/10\n"
     ]
    },
    {
     "name": "stderr",
     "output_type": "stream",
     "text": [
      "2023-02-19 10:27:20.277085: I tensorflow/core/grappler/optimizers/custom_graph_optimizer_registry.cc:114] Plugin optimizer for device_type GPU is enabled.\n"
     ]
    },
    {
     "name": "stdout",
     "output_type": "stream",
     "text": [
      "3110/3110 [==============================] - 32s 10ms/step - loss: 19121.4824 - val_loss: 19683.6191\n",
      "Epoch 3/10\n",
      "3110/3110 [==============================] - 31s 10ms/step - loss: 19121.4883 - val_loss: 19683.6191\n",
      "Epoch 4/10\n",
      "3110/3110 [==============================] - 31s 10ms/step - loss: 19121.4805 - val_loss: 19683.6191\n",
      "Epoch 5/10\n",
      "3110/3110 [==============================] - 31s 10ms/step - loss: 19121.4922 - val_loss: 19683.6191\n",
      "Epoch 6/10\n",
      "3110/3110 [==============================] - 32s 10ms/step - loss: 19121.5098 - val_loss: 19683.6191\n",
      "Epoch 7/10\n",
      "3110/3110 [==============================] - 31s 10ms/step - loss: 19121.4883 - val_loss: 19683.6191\n",
      "Epoch 8/10\n",
      "3110/3110 [==============================] - 31s 10ms/step - loss: 19121.4980 - val_loss: 19683.6191\n",
      "Epoch 9/10\n",
      "3110/3110 [==============================] - 31s 10ms/step - loss: 19121.4844 - val_loss: 19683.6191\n",
      "Epoch 10/10\n",
      "3110/3110 [==============================] - 31s 10ms/step - loss: 19121.4883 - val_loss: 19683.6191\n"
     ]
    }
   ],
   "source": [
    "history = model.fit(call_X_train, call_y_train,\n",
    "                    batch_size=64, epochs=10,\n",
    "                    validation_split = 0.01,\n",
    "                    callbacks=[TensorBoard()],\n",
    "                    verbose=1)"
   ],
   "metadata": {
    "collapsed": false
   }
  },
  {
   "cell_type": "code",
   "execution_count": 20,
   "outputs": [
    {
     "name": "stdout",
     "output_type": "stream",
     "text": [
      "  40/3094 [..............................] - ETA: 12s"
     ]
    },
    {
     "name": "stderr",
     "output_type": "stream",
     "text": [
      "2023-02-19 10:33:57.112020: I tensorflow/core/grappler/optimizers/custom_graph_optimizer_registry.cc:114] Plugin optimizer for device_type GPU is enabled.\n"
     ]
    },
    {
     "name": "stdout",
     "output_type": "stream",
     "text": [
      "3094/3094 [==============================] - 11s 3ms/step\n"
     ]
    }
   ],
   "source": [
    "call_y_pred = model.predict(call_X_test)"
   ],
   "metadata": {
    "collapsed": false
   }
  },
  {
   "cell_type": "code",
   "execution_count": 21,
   "outputs": [
    {
     "data": {
      "text/plain": "('test set mse', 19181.653318852295)"
     },
     "execution_count": 21,
     "metadata": {},
     "output_type": "execute_result"
    }
   ],
   "source": [
    "'test set mse', np.mean(np.square(call_y_test - np.reshape(call_y_pred, call_y_pred.shape[0])))"
   ],
   "metadata": {
    "collapsed": false
   }
  },
  {
   "cell_type": "code",
   "execution_count": null,
   "outputs": [],
   "source": [
    "call_y_pred[0]"
   ],
   "metadata": {
    "collapsed": false
   }
  },
  {
   "cell_type": "code",
   "execution_count": null,
   "outputs": [],
   "source": [],
   "metadata": {
    "collapsed": false
   }
  }
 ],
 "metadata": {
  "kernelspec": {
   "display_name": "Python 3",
   "language": "python",
   "name": "python3"
  },
  "language_info": {
   "codemirror_mode": {
    "name": "ipython",
    "version": 2
   },
   "file_extension": ".py",
   "mimetype": "text/x-python",
   "name": "python",
   "nbconvert_exporter": "python",
   "pygments_lexer": "ipython2",
   "version": "2.7.6"
  }
 },
 "nbformat": 4,
 "nbformat_minor": 0
}
