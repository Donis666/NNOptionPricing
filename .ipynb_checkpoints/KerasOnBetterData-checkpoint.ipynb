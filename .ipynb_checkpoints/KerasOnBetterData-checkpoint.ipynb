{
 "cells": [
  {
   "cell_type": "code",
   "execution_count": 1,
   "id": "bcde6166-f834-4740-8323-3fca7090958a",
   "metadata": {},
   "outputs": [],
   "source": [
    "from keras.models import Sequential\n",
    "from keras.layers import Dense, Activation, LeakyReLU, ELU, BatchNormalization\n",
    "from keras import backend\n",
    "from keras.callbacks import TensorBoard\n",
    "from keras.optimizers import Adam, SGD\n",
    "import pandas as pd\n",
    "import numpy as np\n",
    "from sklearn.model_selection import train_test_split"
   ]
  },
  {
   "cell_type": "code",
   "execution_count": 2,
   "id": "bdd29e4f-5474-4f53-a835-a60dbb826f9e",
   "metadata": {},
   "outputs": [],
   "source": [
    "data = pd.read_csv(\"betterSimulation.csv\").iloc[:,1:]"
   ]
  },
  {
   "cell_type": "code",
   "execution_count": 3,
   "id": "1d01006d",
   "metadata": {},
   "outputs": [
    {
     "data": {
      "text/html": [
       "<div>\n",
       "<style scoped>\n",
       "    .dataframe tbody tr th:only-of-type {\n",
       "        vertical-align: middle;\n",
       "    }\n",
       "\n",
       "    .dataframe tbody tr th {\n",
       "        vertical-align: top;\n",
       "    }\n",
       "\n",
       "    .dataframe thead th {\n",
       "        text-align: right;\n",
       "    }\n",
       "</style>\n",
       "<table border=\"1\" class=\"dataframe\">\n",
       "  <thead>\n",
       "    <tr style=\"text-align: right;\">\n",
       "      <th></th>\n",
       "      <th>S</th>\n",
       "      <th>K</th>\n",
       "      <th>T</th>\n",
       "      <th>r</th>\n",
       "      <th>sigma</th>\n",
       "      <th>call_price</th>\n",
       "    </tr>\n",
       "  </thead>\n",
       "  <tbody>\n",
       "    <tr>\n",
       "      <th>0</th>\n",
       "      <td>216.496496</td>\n",
       "      <td>352.958616</td>\n",
       "      <td>0.099716</td>\n",
       "      <td>0.010808</td>\n",
       "      <td>0.427778</td>\n",
       "      <td>1.396496e-03</td>\n",
       "    </tr>\n",
       "    <tr>\n",
       "      <th>1</th>\n",
       "      <td>414.654655</td>\n",
       "      <td>396.103120</td>\n",
       "      <td>0.169814</td>\n",
       "      <td>0.014444</td>\n",
       "      <td>0.402020</td>\n",
       "      <td>3.761203e+01</td>\n",
       "    </tr>\n",
       "    <tr>\n",
       "      <th>2</th>\n",
       "      <td>202.762763</td>\n",
       "      <td>365.089082</td>\n",
       "      <td>1.139496</td>\n",
       "      <td>0.020505</td>\n",
       "      <td>0.298990</td>\n",
       "      <td>1.309998e+00</td>\n",
       "    </tr>\n",
       "    <tr>\n",
       "      <th>3</th>\n",
       "      <td>279.769770</td>\n",
       "      <td>472.707389</td>\n",
       "      <td>0.318771</td>\n",
       "      <td>0.030000</td>\n",
       "      <td>0.058586</td>\n",
       "      <td>4.587326e-55</td>\n",
       "    </tr>\n",
       "    <tr>\n",
       "      <th>4</th>\n",
       "      <td>361.681682</td>\n",
       "      <td>310.186496</td>\n",
       "      <td>2.967872</td>\n",
       "      <td>0.012222</td>\n",
       "      <td>0.376263</td>\n",
       "      <td>1.186831e+02</td>\n",
       "    </tr>\n",
       "    <tr>\n",
       "      <th>...</th>\n",
       "      <td>...</td>\n",
       "      <td>...</td>\n",
       "      <td>...</td>\n",
       "      <td>...</td>\n",
       "      <td>...</td>\n",
       "      <td>...</td>\n",
       "    </tr>\n",
       "    <tr>\n",
       "      <th>299995</th>\n",
       "      <td>411.711712</td>\n",
       "      <td>521.932835</td>\n",
       "      <td>0.169814</td>\n",
       "      <td>0.028384</td>\n",
       "      <td>0.693939</td>\n",
       "      <td>1.545020e+01</td>\n",
       "    </tr>\n",
       "    <tr>\n",
       "      <th>299996</th>\n",
       "      <td>395.525526</td>\n",
       "      <td>52.570999</td>\n",
       "      <td>0.461887</td>\n",
       "      <td>0.028182</td>\n",
       "      <td>0.814141</td>\n",
       "      <td>3.436366e+02</td>\n",
       "    </tr>\n",
       "    <tr>\n",
       "      <th>299997</th>\n",
       "      <td>405.335335</td>\n",
       "      <td>111.441671</td>\n",
       "      <td>2.161751</td>\n",
       "      <td>0.012626</td>\n",
       "      <td>0.513636</td>\n",
       "      <td>2.993454e+02</td>\n",
       "    </tr>\n",
       "    <tr>\n",
       "      <th>299998</th>\n",
       "      <td>52.672673</td>\n",
       "      <td>114.923977</td>\n",
       "      <td>2.795549</td>\n",
       "      <td>0.025152</td>\n",
       "      <td>0.736869</td>\n",
       "      <td>1.468384e+01</td>\n",
       "    </tr>\n",
       "    <tr>\n",
       "      <th>299999</th>\n",
       "      <td>486.756757</td>\n",
       "      <td>82.727699</td>\n",
       "      <td>1.247563</td>\n",
       "      <td>0.020505</td>\n",
       "      <td>0.161616</td>\n",
       "      <td>4.061185e+02</td>\n",
       "    </tr>\n",
       "  </tbody>\n",
       "</table>\n",
       "<p>300000 rows × 6 columns</p>\n",
       "</div>"
      ],
      "text/plain": [
       "                 S           K         T         r     sigma    call_price\n",
       "0       216.496496  352.958616  0.099716  0.010808  0.427778  1.396496e-03\n",
       "1       414.654655  396.103120  0.169814  0.014444  0.402020  3.761203e+01\n",
       "2       202.762763  365.089082  1.139496  0.020505  0.298990  1.309998e+00\n",
       "3       279.769770  472.707389  0.318771  0.030000  0.058586  4.587326e-55\n",
       "4       361.681682  310.186496  2.967872  0.012222  0.376263  1.186831e+02\n",
       "...            ...         ...       ...       ...       ...           ...\n",
       "299995  411.711712  521.932835  0.169814  0.028384  0.693939  1.545020e+01\n",
       "299996  395.525526   52.570999  0.461887  0.028182  0.814141  3.436366e+02\n",
       "299997  405.335335  111.441671  2.161751  0.012626  0.513636  2.993454e+02\n",
       "299998   52.672673  114.923977  2.795549  0.025152  0.736869  1.468384e+01\n",
       "299999  486.756757   82.727699  1.247563  0.020505  0.161616  4.061185e+02\n",
       "\n",
       "[300000 rows x 6 columns]"
      ]
     },
     "execution_count": 3,
     "metadata": {},
     "output_type": "execute_result"
    }
   ],
   "source": [
    "data"
   ]
  },
  {
   "cell_type": "code",
   "execution_count": 3,
   "id": "44a78d25",
   "metadata": {
    "jupyter": {
     "outputs_hidden": false
    }
   },
   "outputs": [],
   "source": [
    "call_X_train, call_X_test, call_y_train, call_y_test = train_test_split(data.iloc[:,:-1], data.iloc[:,-1], test_size=0.33, random_state=42)"
   ]
  },
  {
   "cell_type": "code",
   "execution_count": 15,
   "id": "c8d3f0c0",
   "metadata": {
    "jupyter": {
     "outputs_hidden": false
    }
   },
   "outputs": [],
   "source": [
    "model = Sequential()"
   ]
  },
  {
   "cell_type": "code",
   "execution_count": 16,
   "id": "e090ac23",
   "metadata": {
    "jupyter": {
     "outputs_hidden": false
    }
   },
   "outputs": [],
   "source": [
    "model.add(Dense(200, input_dim=call_X_train.shape[1]))\n",
    "model.add(BatchNormalization())\n",
    "model.add(LeakyReLU())\n",
    "model.add(Dense(200))\n",
    "model.add(BatchNormalization())\n",
    "model.add(ELU())\n",
    "model.add(Dense(1, activation='relu'))\n",
    "model.compile(loss='mse', optimizer=Adam(learning_rate=0.001))"
   ]
  },
  {
   "cell_type": "code",
   "execution_count": 17,
   "id": "bd83cb9d",
   "metadata": {
    "jupyter": {
     "outputs_hidden": false
    }
   },
   "outputs": [
    {
     "name": "stdout",
     "output_type": "stream",
     "text": [
      "Model: \"sequential_1\"\n",
      "_________________________________________________________________\n",
      " Layer (type)                Output Shape              Param #   \n",
      "=================================================================\n",
      " dense_3 (Dense)             (None, 200)               1200      \n",
      "                                                                 \n",
      " batch_normalization_2 (Batc  (None, 200)              800       \n",
      " hNormalization)                                                 \n",
      "                                                                 \n",
      " leaky_re_lu_1 (LeakyReLU)   (None, 200)               0         \n",
      "                                                                 \n",
      " dense_4 (Dense)             (None, 200)               40200     \n",
      "                                                                 \n",
      " batch_normalization_3 (Batc  (None, 200)              800       \n",
      " hNormalization)                                                 \n",
      "                                                                 \n",
      " elu_1 (ELU)                 (None, 200)               0         \n",
      "                                                                 \n",
      " dense_5 (Dense)             (None, 1)                 201       \n",
      "                                                                 \n",
      "=================================================================\n",
      "Total params: 43,201\n",
      "Trainable params: 42,401\n",
      "Non-trainable params: 800\n",
      "_________________________________________________________________\n"
     ]
    }
   ],
   "source": [
    "model.summary()"
   ]
  },
  {
   "cell_type": "code",
   "execution_count": 18,
   "id": "beb70604",
   "metadata": {
    "jupyter": {
     "outputs_hidden": false
    }
   },
   "outputs": [
    {
     "name": "stdout",
     "output_type": "stream",
     "text": [
      "Epoch 1/20\n"
     ]
    },
    {
     "name": "stderr",
     "output_type": "stream",
     "text": [
      "/Users/ezreal/opt/anaconda3/envs/deep_learning/lib/python3.10/site-packages/keras/engine/data_adapter.py:1699: FutureWarning: The behavior of `series[i:j]` with an integer-dtype index is deprecated. In a future version, this will be treated as *label-based* indexing, consistent with e.g. `series[i]` lookups. To retain the old behavior, use `series.iloc[i:j]`. To get the future behavior, use `series.loc[i:j]`.\n",
      "  return t[start:end]\n"
     ]
    },
    {
     "name": "stdout",
     "output_type": "stream",
     "text": [
      "195/195 [==============================] - 3s 10ms/step - loss: 16589.9375 - val_loss: 11583.2773\n",
      "Epoch 2/20\n",
      "195/195 [==============================] - 2s 8ms/step - loss: 7508.3833 - val_loss: 4723.6030\n",
      "Epoch 3/20\n",
      "195/195 [==============================] - 2s 9ms/step - loss: 1916.9911 - val_loss: 739.9663\n",
      "Epoch 4/20\n",
      "195/195 [==============================] - 2s 9ms/step - loss: 295.0060 - val_loss: 134.6748\n",
      "Epoch 5/20\n",
      "195/195 [==============================] - 2s 9ms/step - loss: 97.8040 - val_loss: 112.3755\n",
      "Epoch 6/20\n",
      "195/195 [==============================] - 2s 9ms/step - loss: 89.8208 - val_loss: 267.1862\n",
      "Epoch 7/20\n",
      "195/195 [==============================] - 2s 8ms/step - loss: 74.9435 - val_loss: 330.2074\n",
      "Epoch 8/20\n",
      "195/195 [==============================] - 2s 9ms/step - loss: 62.4155 - val_loss: 105.1928\n",
      "Epoch 9/20\n",
      "195/195 [==============================] - 2s 9ms/step - loss: 62.3862 - val_loss: 171.9729\n",
      "Epoch 10/20\n",
      "195/195 [==============================] - 2s 9ms/step - loss: 54.9085 - val_loss: 264.5521\n",
      "Epoch 11/20\n",
      "195/195 [==============================] - 2s 8ms/step - loss: 52.8506 - val_loss: 144.0974\n",
      "Epoch 12/20\n",
      "195/195 [==============================] - 2s 9ms/step - loss: 48.2694 - val_loss: 91.6697\n",
      "Epoch 13/20\n",
      "195/195 [==============================] - 2s 8ms/step - loss: 53.2720 - val_loss: 63.0225\n",
      "Epoch 14/20\n",
      "195/195 [==============================] - 2s 8ms/step - loss: 50.6489 - val_loss: 492.9611\n",
      "Epoch 15/20\n",
      "195/195 [==============================] - 2s 9ms/step - loss: 50.8667 - val_loss: 101.0907\n",
      "Epoch 16/20\n",
      "195/195 [==============================] - 2s 8ms/step - loss: 46.5822 - val_loss: 39.4550\n",
      "Epoch 17/20\n",
      "195/195 [==============================] - 2s 8ms/step - loss: 44.5512 - val_loss: 47.7474\n",
      "Epoch 18/20\n",
      "195/195 [==============================] - 2s 9ms/step - loss: 39.5126 - val_loss: 247.9909\n",
      "Epoch 19/20\n",
      "195/195 [==============================] - 2s 8ms/step - loss: 42.1430 - val_loss: 166.5053\n",
      "Epoch 20/20\n",
      "195/195 [==============================] - 2s 9ms/step - loss: 42.3922 - val_loss: 60.5312\n"
     ]
    }
   ],
   "source": [
    "history = model.fit(call_X_train, call_y_train,\n",
    "                    batch_size=1024, epochs=20,\n",
    "                    validation_split = 0.01,\n",
    "                    callbacks=[TensorBoard()],\n",
    "                    verbose=1)"
   ]
  },
  {
   "cell_type": "code",
   "execution_count": 19,
   "id": "b6f9b40f",
   "metadata": {
    "jupyter": {
     "outputs_hidden": false
    }
   },
   "outputs": [
    {
     "name": "stdout",
     "output_type": "stream",
     "text": [
      "3094/3094 [==============================] - 4s 1ms/step\n"
     ]
    }
   ],
   "source": [
    "call_y_pred = model.predict(call_X_test)"
   ]
  },
  {
   "cell_type": "code",
   "execution_count": 20,
   "id": "dc44713f",
   "metadata": {
    "jupyter": {
     "outputs_hidden": false
    }
   },
   "outputs": [
    {
     "data": {
      "text/html": [
       "<div>\n",
       "<style scoped>\n",
       "    .dataframe tbody tr th:only-of-type {\n",
       "        vertical-align: middle;\n",
       "    }\n",
       "\n",
       "    .dataframe tbody tr th {\n",
       "        vertical-align: top;\n",
       "    }\n",
       "\n",
       "    .dataframe thead th {\n",
       "        text-align: right;\n",
       "    }\n",
       "</style>\n",
       "<table border=\"1\" class=\"dataframe\">\n",
       "  <thead>\n",
       "    <tr style=\"text-align: right;\">\n",
       "      <th></th>\n",
       "      <th>0</th>\n",
       "    </tr>\n",
       "  </thead>\n",
       "  <tbody>\n",
       "    <tr>\n",
       "      <th>0</th>\n",
       "      <td>351.210236</td>\n",
       "    </tr>\n",
       "    <tr>\n",
       "      <th>1</th>\n",
       "      <td>43.511566</td>\n",
       "    </tr>\n",
       "    <tr>\n",
       "      <th>2</th>\n",
       "      <td>175.397629</td>\n",
       "    </tr>\n",
       "    <tr>\n",
       "      <th>3</th>\n",
       "      <td>152.870956</td>\n",
       "    </tr>\n",
       "    <tr>\n",
       "      <th>4</th>\n",
       "      <td>275.071625</td>\n",
       "    </tr>\n",
       "    <tr>\n",
       "      <th>...</th>\n",
       "      <td>...</td>\n",
       "    </tr>\n",
       "    <tr>\n",
       "      <th>98995</th>\n",
       "      <td>31.513504</td>\n",
       "    </tr>\n",
       "    <tr>\n",
       "      <th>98996</th>\n",
       "      <td>0.000000</td>\n",
       "    </tr>\n",
       "    <tr>\n",
       "      <th>98997</th>\n",
       "      <td>0.000000</td>\n",
       "    </tr>\n",
       "    <tr>\n",
       "      <th>98998</th>\n",
       "      <td>58.889664</td>\n",
       "    </tr>\n",
       "    <tr>\n",
       "      <th>98999</th>\n",
       "      <td>144.771912</td>\n",
       "    </tr>\n",
       "  </tbody>\n",
       "</table>\n",
       "<p>99000 rows × 1 columns</p>\n",
       "</div>"
      ],
      "text/plain": [
       "                0\n",
       "0      351.210236\n",
       "1       43.511566\n",
       "2      175.397629\n",
       "3      152.870956\n",
       "4      275.071625\n",
       "...           ...\n",
       "98995   31.513504\n",
       "98996    0.000000\n",
       "98997    0.000000\n",
       "98998   58.889664\n",
       "98999  144.771912\n",
       "\n",
       "[99000 rows x 1 columns]"
      ]
     },
     "execution_count": 20,
     "metadata": {},
     "output_type": "execute_result"
    }
   ],
   "source": [
    "pd.DataFrame(call_y_pred)"
   ]
  },
  {
   "cell_type": "code",
   "execution_count": 11,
   "id": "63088ab5",
   "metadata": {
    "jupyter": {
     "outputs_hidden": false
    }
   },
   "outputs": [
    {
     "data": {
      "text/html": [
       "<div>\n",
       "<style scoped>\n",
       "    .dataframe tbody tr th:only-of-type {\n",
       "        vertical-align: middle;\n",
       "    }\n",
       "\n",
       "    .dataframe tbody tr th {\n",
       "        vertical-align: top;\n",
       "    }\n",
       "\n",
       "    .dataframe thead th {\n",
       "        text-align: right;\n",
       "    }\n",
       "</style>\n",
       "<table border=\"1\" class=\"dataframe\">\n",
       "  <thead>\n",
       "    <tr style=\"text-align: right;\">\n",
       "      <th></th>\n",
       "      <th>call_price</th>\n",
       "    </tr>\n",
       "  </thead>\n",
       "  <tbody>\n",
       "    <tr>\n",
       "      <th>4941</th>\n",
       "      <td>3.397571e+02</td>\n",
       "    </tr>\n",
       "    <tr>\n",
       "      <th>51775</th>\n",
       "      <td>4.680649e+01</td>\n",
       "    </tr>\n",
       "    <tr>\n",
       "      <th>115253</th>\n",
       "      <td>1.721534e+02</td>\n",
       "    </tr>\n",
       "    <tr>\n",
       "      <th>299321</th>\n",
       "      <td>1.473695e+02</td>\n",
       "    </tr>\n",
       "    <tr>\n",
       "      <th>173570</th>\n",
       "      <td>2.630937e+02</td>\n",
       "    </tr>\n",
       "    <tr>\n",
       "      <th>...</th>\n",
       "      <td>...</td>\n",
       "    </tr>\n",
       "    <tr>\n",
       "      <th>18305</th>\n",
       "      <td>3.440506e+01</td>\n",
       "    </tr>\n",
       "    <tr>\n",
       "      <th>218340</th>\n",
       "      <td>3.657108e-03</td>\n",
       "    </tr>\n",
       "    <tr>\n",
       "      <th>114216</th>\n",
       "      <td>1.357445e-08</td>\n",
       "    </tr>\n",
       "    <tr>\n",
       "      <th>172565</th>\n",
       "      <td>6.294543e+01</td>\n",
       "    </tr>\n",
       "    <tr>\n",
       "      <th>249214</th>\n",
       "      <td>1.385692e+02</td>\n",
       "    </tr>\n",
       "  </tbody>\n",
       "</table>\n",
       "<p>99000 rows × 1 columns</p>\n",
       "</div>"
      ],
      "text/plain": [
       "          call_price\n",
       "4941    3.397571e+02\n",
       "51775   4.680649e+01\n",
       "115253  1.721534e+02\n",
       "299321  1.473695e+02\n",
       "173570  2.630937e+02\n",
       "...              ...\n",
       "18305   3.440506e+01\n",
       "218340  3.657108e-03\n",
       "114216  1.357445e-08\n",
       "172565  6.294543e+01\n",
       "249214  1.385692e+02\n",
       "\n",
       "[99000 rows x 1 columns]"
      ]
     },
     "execution_count": 11,
     "metadata": {},
     "output_type": "execute_result"
    }
   ],
   "source": [
    "pd.DataFrame(call_y_test)"
   ]
  },
  {
   "cell_type": "code",
   "execution_count": null,
   "id": "2eb7387c",
   "metadata": {
    "jupyter": {
     "outputs_hidden": false
    }
   },
   "outputs": [],
   "source": []
  }
 ],
 "metadata": {
  "kernelspec": {
   "display_name": "Python 3 (ipykernel)",
   "language": "python",
   "name": "python3"
  },
  "language_info": {
   "codemirror_mode": {
    "name": "ipython",
    "version": 3
   },
   "file_extension": ".py",
   "mimetype": "text/x-python",
   "name": "python",
   "nbconvert_exporter": "python",
   "pygments_lexer": "ipython3",
   "version": "3.9.16"
  }
 },
 "nbformat": 4,
 "nbformat_minor": 5
}
