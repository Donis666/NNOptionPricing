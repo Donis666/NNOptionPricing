{
 "cells": [
  {
   "cell_type": "code",
   "execution_count": 1,
   "id": "8035ad4c",
   "metadata": {},
   "outputs": [],
   "source": [
    "from math import log, sqrt, pi, exp\n",
    "from scipy.stats import norm\n",
    "from datetime import datetime, date\n",
    "import numpy as np\n",
    "import pandas as pd\n",
    "from pandas import DataFrame\n",
    "from numba import jit"
   ]
  },
  {
   "cell_type": "code",
   "execution_count": 2,
   "id": "6e2eaad2",
   "metadata": {},
   "outputs": [],
   "source": [
    "def generate_heston_paths(S, T, r, kappa, theta, v_0, rho, xi, \n",
    "                          steps, Npaths, return_vol=False):\n",
    "    dt = T/steps\n",
    "    size = (Npaths, steps)\n",
    "    prices = np.zeros(size)\n",
    "    sigs = np.zeros(size)\n",
    "    S_t = S\n",
    "    v_t = v_0\n",
    "    for t in range(steps):\n",
    "        WT = np.random.multivariate_normal(np.array([0,0]), \n",
    "                                           cov = np.array([[1,rho],\n",
    "                                                          [rho,1]]), \n",
    "                                           size=Npaths) * np.sqrt(dt) \n",
    "        \n",
    "        S_t = S_t*(np.exp( (r- 0.5*v_t)*dt+ np.sqrt(v_t) *WT[:,0] ) ) \n",
    "        v_t = np.abs(v_t + kappa*(theta-v_t)*dt + xi*np.sqrt(v_t)*WT[:,1])\n",
    "        prices[:, t] = S_t\n",
    "        sigs[:, t] = v_t\n",
    "    \n",
    "    \n",
    "    return prices"
   ]
  },
  {
   "cell_type": "code",
   "execution_count": 3,
   "id": "9442cab3",
   "metadata": {},
   "outputs": [],
   "source": [
    "kappa = 4\n",
    "theta = 0.02\n",
    "v_0 =  0.02\n",
    "xi = 0.9\n",
    "r = 0.02\n",
    "S = 100\n",
    "T = 1\n",
    "rho = 0.9"
   ]
  },
  {
   "cell_type": "code",
   "execution_count": 24,
   "id": "78f205a4",
   "metadata": {},
   "outputs": [],
   "source": [
    "def heston_call(S, K, T, r, kappa, theta, v_0, rho, xi):\n",
    "    prices_pos = generate_heston_paths(S, T, r, kappa, theta,\n",
    "                                    v_0, rho, xi, steps=1000, Npaths=10000,\n",
    "                                    return_vol=False)[:,-1]\n",
    "    print(prices_pos)\n",
    "    return np.max([np.mean(prices_pos) - K,0]) * np.exp(-r*T)"
   ]
  },
  {
   "cell_type": "code",
   "execution_count": 5,
   "id": "2cd8df16",
   "metadata": {},
   "outputs": [
    {
     "data": {
      "text/plain": [
       "2.0549935465188933"
      ]
     },
     "execution_count": 5,
     "metadata": {},
     "output_type": "execute_result"
    }
   ],
   "source": [
    "heston_call(S, S, T, r, kappa, theta, v_0, rho, xi)"
   ]
  },
  {
   "cell_type": "code",
   "execution_count": 6,
   "id": "16165e91",
   "metadata": {},
   "outputs": [],
   "source": [
    "S = np.linspace(10, 500, num = 1000)\n",
    "T = np.linspace(1/12, 3, num= 1000)\n",
    "r = np.linspace(0.01, 0.1, num=100)\n",
    "v_0 = np.linspace(0.05, 0.9, num=100)\n",
    "theta = np.linspace(0.01, 0.8, num = 100)\n",
    "kappa = np.linspace(0, 10, num = 100)\n",
    "rho = np.linspace(-0.99, 0.99, num = 1000)\n",
    "# xi < 2 * theta * kappa\n",
    "l = [S, T, r, v_0, theta, kappa, rho]"
   ]
  },
  {
   "cell_type": "code",
   "execution_count": 7,
   "id": "1dcbfcf9",
   "metadata": {},
   "outputs": [],
   "source": [
    "param_List = []\n",
    "for i in range(30000):\n",
    "    params = []\n",
    "    for p in l:\n",
    "        params.append(np.random.choice(p))\n",
    "    param_List.append(params)"
   ]
  },
  {
   "cell_type": "code",
   "execution_count": 8,
   "id": "bcb3b39f",
   "metadata": {},
   "outputs": [],
   "source": [
    "np.random.seed(42)\n",
    "for params in param_List:\n",
    "    S = params[0]\n",
    "    T = params[1]\n",
    "    t = np.random.choice(np.linspace(1/12, T, num= 1000))\n",
    "    q = np.random.choice(np.linspace(-0.2, 0.2, num= 1000))\n",
    "    K = np.exp(q * t) * S\n",
    "    params.insert(1, K)\n",
    "    theta = params[-2]\n",
    "    kappa = params[-1]\n",
    "    xi = np.random.choice(np.linspace(0, np.sqrt(2 * theta * kappa), num= 1000))\n",
    "    params.append(xi)"
   ]
  },
  {
   "cell_type": "code",
   "execution_count": 9,
   "id": "14be60d8",
   "metadata": {},
   "outputs": [
    {
     "data": {
      "text/plain": [
       "[308.2182182182182,\n",
       " 263.02093440621024,\n",
       " 1.143143143143143,\n",
       " 0.0590909090909091,\n",
       " 0.21313131313131312,\n",
       " 0.1775757575757576,\n",
       " 1.7171717171717171,\n",
       " 0.47997275087483515]"
      ]
     },
     "execution_count": 9,
     "metadata": {},
     "output_type": "execute_result"
    }
   ],
   "source": [
    "param_List[2]"
   ]
  },
  {
   "cell_type": "code",
   "execution_count": 10,
   "id": "6d626e9b",
   "metadata": {},
   "outputs": [],
   "source": [
    "from tqdm import tqdm"
   ]
  },
  {
   "cell_type": "code",
   "execution_count": 11,
   "id": "30324ce2",
   "metadata": {},
   "outputs": [
    {
     "name": "stderr",
     "output_type": "stream",
     "text": [
      "100%|███████████████████████████████████| 30000/30000 [4:32:20<00:00,  1.84it/s]\n"
     ]
    }
   ],
   "source": [
    "for params in tqdm(param_List):\n",
    "    S = params[0]\n",
    "    K = params[1]\n",
    "    T = params[2]\n",
    "    r = params[3]\n",
    "    v_0 = params[4]\n",
    "    theta = params[5]\n",
    "    kappa = params[6]\n",
    "    xi = params[7]\n",
    "    call_price = heston_call(S, K, T, r, kappa, theta, v_0, rho, xi)\n",
    "    params.append(call_price)"
   ]
  },
  {
   "cell_type": "code",
   "execution_count": 12,
   "id": "48ff0cf6",
   "metadata": {},
   "outputs": [
    {
     "ename": "NameError",
     "evalue": "name 'f' is not defined",
     "output_type": "error",
     "traceback": [
      "\u001b[0;31m---------------------------------------------------------------------------\u001b[0m",
      "\u001b[0;31mNameError\u001b[0m                                 Traceback (most recent call last)",
      "Cell \u001b[0;32mIn[12], line 1\u001b[0m\n\u001b[0;32m----> 1\u001b[0m \u001b[43mf\u001b[49m()\n",
      "\u001b[0;31mNameError\u001b[0m: name 'f' is not defined"
     ]
    }
   ],
   "source": [
    "f()"
   ]
  },
  {
   "cell_type": "code",
   "execution_count": 13,
   "id": "c2540b9b",
   "metadata": {},
   "outputs": [],
   "source": [
    "import pandas as pd\n",
    "df = pd.DataFrame(param_List)"
   ]
  },
  {
   "cell_type": "code",
   "execution_count": 15,
   "id": "bc41a738",
   "metadata": {},
   "outputs": [],
   "source": [
    "df.columns = [\"S\", \"K\", \"T\", \"r\", \"v_0\", \"theta\", \"kappa\", \"xi\", \"call_price\"]"
   ]
  },
  {
   "cell_type": "code",
   "execution_count": 20,
   "id": "6b1b1b4c",
   "metadata": {},
   "outputs": [
    {
     "data": {
      "text/html": [
       "<div>\n",
       "<style scoped>\n",
       "    .dataframe tbody tr th:only-of-type {\n",
       "        vertical-align: middle;\n",
       "    }\n",
       "\n",
       "    .dataframe tbody tr th {\n",
       "        vertical-align: top;\n",
       "    }\n",
       "\n",
       "    .dataframe thead th {\n",
       "        text-align: right;\n",
       "    }\n",
       "</style>\n",
       "<table border=\"1\" class=\"dataframe\">\n",
       "  <thead>\n",
       "    <tr style=\"text-align: right;\">\n",
       "      <th></th>\n",
       "      <th>S</th>\n",
       "      <th>K</th>\n",
       "      <th>T</th>\n",
       "      <th>r</th>\n",
       "      <th>v_0</th>\n",
       "      <th>theta</th>\n",
       "      <th>kappa</th>\n",
       "      <th>xi</th>\n",
       "      <th>call_price</th>\n",
       "    </tr>\n",
       "  </thead>\n",
       "  <tbody>\n",
       "    <tr>\n",
       "      <th>7</th>\n",
       "      <td>446.536537</td>\n",
       "      <td>470.380893</td>\n",
       "      <td>1.376710</td>\n",
       "      <td>0.021818</td>\n",
       "      <td>0.771212</td>\n",
       "      <td>0.432929</td>\n",
       "      <td>8.080808</td>\n",
       "      <td>0.908196</td>\n",
       "      <td>-8.861511</td>\n",
       "    </tr>\n",
       "    <tr>\n",
       "      <th>12</th>\n",
       "      <td>334.704705</td>\n",
       "      <td>410.004942</td>\n",
       "      <td>1.873040</td>\n",
       "      <td>0.023636</td>\n",
       "      <td>0.324747</td>\n",
       "      <td>0.265354</td>\n",
       "      <td>1.010101</td>\n",
       "      <td>0.410424</td>\n",
       "      <td>-55.306096</td>\n",
       "    </tr>\n",
       "    <tr>\n",
       "      <th>15</th>\n",
       "      <td>114.964965</td>\n",
       "      <td>127.014372</td>\n",
       "      <td>0.900817</td>\n",
       "      <td>0.090000</td>\n",
       "      <td>0.204545</td>\n",
       "      <td>0.440909</td>\n",
       "      <td>3.030303</td>\n",
       "      <td>0.309264</td>\n",
       "      <td>-2.825425</td>\n",
       "    </tr>\n",
       "    <tr>\n",
       "      <th>16</th>\n",
       "      <td>426.916917</td>\n",
       "      <td>507.914214</td>\n",
       "      <td>2.424842</td>\n",
       "      <td>0.050000</td>\n",
       "      <td>0.839899</td>\n",
       "      <td>0.401010</td>\n",
       "      <td>7.070707</td>\n",
       "      <td>2.281238</td>\n",
       "      <td>-33.309720</td>\n",
       "    </tr>\n",
       "    <tr>\n",
       "      <th>17</th>\n",
       "      <td>321.461461</td>\n",
       "      <td>354.812663</td>\n",
       "      <td>1.102269</td>\n",
       "      <td>0.037273</td>\n",
       "      <td>0.805556</td>\n",
       "      <td>0.393030</td>\n",
       "      <td>7.373737</td>\n",
       "      <td>1.364026</td>\n",
       "      <td>-15.294175</td>\n",
       "    </tr>\n",
       "    <tr>\n",
       "      <th>...</th>\n",
       "      <td>...</td>\n",
       "      <td>...</td>\n",
       "      <td>...</td>\n",
       "      <td>...</td>\n",
       "      <td>...</td>\n",
       "      <td>...</td>\n",
       "      <td>...</td>\n",
       "      <td>...</td>\n",
       "      <td>...</td>\n",
       "    </tr>\n",
       "    <tr>\n",
       "      <th>29975</th>\n",
       "      <td>396.996997</td>\n",
       "      <td>456.928080</td>\n",
       "      <td>2.509510</td>\n",
       "      <td>0.040909</td>\n",
       "      <td>0.092929</td>\n",
       "      <td>0.488788</td>\n",
       "      <td>9.191919</td>\n",
       "      <td>1.431302</td>\n",
       "      <td>-30.463971</td>\n",
       "    </tr>\n",
       "    <tr>\n",
       "      <th>29978</th>\n",
       "      <td>475.475475</td>\n",
       "      <td>477.091448</td>\n",
       "      <td>2.319736</td>\n",
       "      <td>0.019091</td>\n",
       "      <td>0.084343</td>\n",
       "      <td>0.800000</td>\n",
       "      <td>5.454545</td>\n",
       "      <td>2.022693</td>\n",
       "      <td>-4.361013</td>\n",
       "    </tr>\n",
       "    <tr>\n",
       "      <th>29991</th>\n",
       "      <td>412.202202</td>\n",
       "      <td>418.286966</td>\n",
       "      <td>0.191358</td>\n",
       "      <td>0.025455</td>\n",
       "      <td>0.333333</td>\n",
       "      <td>0.097778</td>\n",
       "      <td>1.010101</td>\n",
       "      <td>0.015126</td>\n",
       "      <td>-2.608748</td>\n",
       "    </tr>\n",
       "    <tr>\n",
       "      <th>29993</th>\n",
       "      <td>30.600601</td>\n",
       "      <td>38.624334</td>\n",
       "      <td>2.953287</td>\n",
       "      <td>0.072727</td>\n",
       "      <td>0.762626</td>\n",
       "      <td>0.736162</td>\n",
       "      <td>4.848485</td>\n",
       "      <td>1.393403</td>\n",
       "      <td>-0.436839</td>\n",
       "    </tr>\n",
       "    <tr>\n",
       "      <th>29999</th>\n",
       "      <td>301.351351</td>\n",
       "      <td>443.378383</td>\n",
       "      <td>2.874458</td>\n",
       "      <td>0.045455</td>\n",
       "      <td>0.539394</td>\n",
       "      <td>0.592525</td>\n",
       "      <td>1.717172</td>\n",
       "      <td>0.315575</td>\n",
       "      <td>-89.908626</td>\n",
       "    </tr>\n",
       "  </tbody>\n",
       "</table>\n",
       "<p>6883 rows × 9 columns</p>\n",
       "</div>"
      ],
      "text/plain": [
       "                S           K         T         r       v_0     theta  \\\n",
       "7      446.536537  470.380893  1.376710  0.021818  0.771212  0.432929   \n",
       "12     334.704705  410.004942  1.873040  0.023636  0.324747  0.265354   \n",
       "15     114.964965  127.014372  0.900817  0.090000  0.204545  0.440909   \n",
       "16     426.916917  507.914214  2.424842  0.050000  0.839899  0.401010   \n",
       "17     321.461461  354.812663  1.102269  0.037273  0.805556  0.393030   \n",
       "...           ...         ...       ...       ...       ...       ...   \n",
       "29975  396.996997  456.928080  2.509510  0.040909  0.092929  0.488788   \n",
       "29978  475.475475  477.091448  2.319736  0.019091  0.084343  0.800000   \n",
       "29991  412.202202  418.286966  0.191358  0.025455  0.333333  0.097778   \n",
       "29993   30.600601   38.624334  2.953287  0.072727  0.762626  0.736162   \n",
       "29999  301.351351  443.378383  2.874458  0.045455  0.539394  0.592525   \n",
       "\n",
       "          kappa        xi  call_price  \n",
       "7      8.080808  0.908196   -8.861511  \n",
       "12     1.010101  0.410424  -55.306096  \n",
       "15     3.030303  0.309264   -2.825425  \n",
       "16     7.070707  2.281238  -33.309720  \n",
       "17     7.373737  1.364026  -15.294175  \n",
       "...         ...       ...         ...  \n",
       "29975  9.191919  1.431302  -30.463971  \n",
       "29978  5.454545  2.022693   -4.361013  \n",
       "29991  1.010101  0.015126   -2.608748  \n",
       "29993  4.848485  1.393403   -0.436839  \n",
       "29999  1.717172  0.315575  -89.908626  \n",
       "\n",
       "[6883 rows x 9 columns]"
      ]
     },
     "execution_count": 20,
     "metadata": {},
     "output_type": "execute_result"
    }
   ],
   "source": [
    "df[df[\"call_price\"] < 0]"
   ]
  },
  {
   "cell_type": "code",
   "execution_count": 31,
   "id": "e03329d4",
   "metadata": {},
   "outputs": [
    {
     "name": "stdout",
     "output_type": "stream",
     "text": [
      "[274.04451838 258.34073453 434.87694001 ... 195.35852034 199.63080755\n",
      " 110.47637069]\n",
      "455.04167197953547\n",
      "-15.33922102046455\n"
     ]
    },
    {
     "data": {
      "text/plain": [
       "-14.885326885147416"
      ]
     },
     "execution_count": 31,
     "metadata": {},
     "output_type": "execute_result"
    }
   ],
   "source": [
    "heston_call(446.536537, 470.380893, 1.37671, 0.021818, 8.080808, 0.432929, 0.771212, 0.9, 0.908196)"
   ]
  },
  {
   "cell_type": "code",
   "execution_count": 30,
   "id": "bf6b8d94",
   "metadata": {},
   "outputs": [],
   "source": [
    "def heston_call(S, K, T, r, kappa, theta, v_0, rho, xi):\n",
    "    prices_pos = generate_heston_paths(S, T, r, kappa, theta,\n",
    "                                    v_0, rho, xi, steps=1000, Npaths=10000,\n",
    "                                    return_vol=False)[:,-1]\n",
    "    print(prices_pos)\n",
    "    print(np.mean(prices_pos))\n",
    "    print(np.max(np.mean(prices_pos) - K,0))\n",
    "    return np.max(np.mean(prices_pos) - K,0) * np.exp(-r*T)"
   ]
  },
  {
   "cell_type": "code",
   "execution_count": 33,
   "id": "8d5c1736",
   "metadata": {},
   "outputs": [
    {
     "data": {
      "text/plain": [
       "0.0"
      ]
     },
     "execution_count": 33,
     "metadata": {},
     "output_type": "execute_result"
    }
   ],
   "source": [
    "np.max([455.04167197953547 - 470.380893, 0])"
   ]
  },
  {
   "cell_type": "code",
   "execution_count": null,
   "id": "532474f6",
   "metadata": {},
   "outputs": [],
   "source": []
  }
 ],
 "metadata": {
  "kernelspec": {
   "display_name": "Python 3 (ipykernel)",
   "language": "python",
   "name": "python3"
  },
  "language_info": {
   "codemirror_mode": {
    "name": "ipython",
    "version": 3
   },
   "file_extension": ".py",
   "mimetype": "text/x-python",
   "name": "python",
   "nbconvert_exporter": "python",
   "pygments_lexer": "ipython3",
   "version": "3.9.16"
  }
 },
 "nbformat": 4,
 "nbformat_minor": 5
}
