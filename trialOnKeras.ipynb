{
 "cells": [
  {
   "cell_type": "code",
   "execution_count": 203,
   "metadata": {},
   "outputs": [],
   "source": [
    "from keras.models import Sequential\n",
    "from keras.layers import Dense, Activation, LeakyReLU, ELU, BatchNormalization, Dropout\n",
    "from keras import backend\n",
    "from keras.callbacks import TensorBoard\n",
    "from keras.optimizers import Adam, SGD\n",
    "import pandas as pd\n",
    "import numpy as np\n",
    "from sklearn.model_selection import train_test_split\n",
    "import matplotlib.pyplot as plt"
   ]
  },
  {
   "cell_type": "code",
   "execution_count": 204,
   "metadata": {},
   "outputs": [],
   "source": [
    "data = pd.read_csv(\"BetterSimulation.csv\").iloc[:,1:]"
   ]
  },
  {
   "cell_type": "code",
   "execution_count": 205,
   "metadata": {},
   "outputs": [
    {
     "data": {
      "text/html": [
       "<div>\n",
       "<style scoped>\n",
       "    .dataframe tbody tr th:only-of-type {\n",
       "        vertical-align: middle;\n",
       "    }\n",
       "\n",
       "    .dataframe tbody tr th {\n",
       "        vertical-align: top;\n",
       "    }\n",
       "\n",
       "    .dataframe thead th {\n",
       "        text-align: right;\n",
       "    }\n",
       "</style>\n",
       "<table border=\"1\" class=\"dataframe\">\n",
       "  <thead>\n",
       "    <tr style=\"text-align: right;\">\n",
       "      <th></th>\n",
       "      <th>S</th>\n",
       "      <th>K</th>\n",
       "      <th>T</th>\n",
       "      <th>r</th>\n",
       "      <th>sigma</th>\n",
       "      <th>call_price</th>\n",
       "    </tr>\n",
       "  </thead>\n",
       "  <tbody>\n",
       "    <tr>\n",
       "      <th>0</th>\n",
       "      <td>216.496496</td>\n",
       "      <td>354.115947</td>\n",
       "      <td>0.099716</td>\n",
       "      <td>0.010808</td>\n",
       "      <td>0.427778</td>\n",
       "      <td>1.266835e-03</td>\n",
       "    </tr>\n",
       "    <tr>\n",
       "      <th>1</th>\n",
       "      <td>414.654655</td>\n",
       "      <td>396.388692</td>\n",
       "      <td>0.169814</td>\n",
       "      <td>0.014444</td>\n",
       "      <td>0.402020</td>\n",
       "      <td>3.744634e+01</td>\n",
       "    </tr>\n",
       "    <tr>\n",
       "      <th>2</th>\n",
       "      <td>202.762763</td>\n",
       "      <td>365.089082</td>\n",
       "      <td>1.139496</td>\n",
       "      <td>0.020505</td>\n",
       "      <td>0.298990</td>\n",
       "      <td>1.309998e+00</td>\n",
       "    </tr>\n",
       "    <tr>\n",
       "      <th>3</th>\n",
       "      <td>279.769770</td>\n",
       "      <td>482.853413</td>\n",
       "      <td>0.318771</td>\n",
       "      <td>0.030000</td>\n",
       "      <td>0.058586</td>\n",
       "      <td>1.589297e-59</td>\n",
       "    </tr>\n",
       "    <tr>\n",
       "      <th>4</th>\n",
       "      <td>361.681682</td>\n",
       "      <td>310.912327</td>\n",
       "      <td>2.967872</td>\n",
       "      <td>0.012222</td>\n",
       "      <td>0.376263</td>\n",
       "      <td>1.183423e+02</td>\n",
       "    </tr>\n",
       "    <tr>\n",
       "      <th>...</th>\n",
       "      <td>...</td>\n",
       "      <td>...</td>\n",
       "      <td>...</td>\n",
       "      <td>...</td>\n",
       "      <td>...</td>\n",
       "      <td>...</td>\n",
       "    </tr>\n",
       "    <tr>\n",
       "      <th>299995</th>\n",
       "      <td>411.711712</td>\n",
       "      <td>522.510367</td>\n",
       "      <td>0.169814</td>\n",
       "      <td>0.028384</td>\n",
       "      <td>0.693939</td>\n",
       "      <td>1.535299e+01</td>\n",
       "    </tr>\n",
       "    <tr>\n",
       "      <th>299996</th>\n",
       "      <td>395.525526</td>\n",
       "      <td>52.845394</td>\n",
       "      <td>0.461887</td>\n",
       "      <td>0.028182</td>\n",
       "      <td>0.814141</td>\n",
       "      <td>3.433659e+02</td>\n",
       "    </tr>\n",
       "    <tr>\n",
       "      <th>299997</th>\n",
       "      <td>405.335335</td>\n",
       "      <td>112.482308</td>\n",
       "      <td>2.161751</td>\n",
       "      <td>0.012626</td>\n",
       "      <td>0.513636</td>\n",
       "      <td>2.984205e+02</td>\n",
       "    </tr>\n",
       "    <tr>\n",
       "      <th>299998</th>\n",
       "      <td>52.672673</td>\n",
       "      <td>116.859373</td>\n",
       "      <td>2.795549</td>\n",
       "      <td>0.025152</td>\n",
       "      <td>0.736869</td>\n",
       "      <td>1.447589e+01</td>\n",
       "    </tr>\n",
       "    <tr>\n",
       "      <th>299999</th>\n",
       "      <td>486.756757</td>\n",
       "      <td>84.883035</td>\n",
       "      <td>1.247563</td>\n",
       "      <td>0.020505</td>\n",
       "      <td>0.161616</td>\n",
       "      <td>4.040176e+02</td>\n",
       "    </tr>\n",
       "  </tbody>\n",
       "</table>\n",
       "<p>300000 rows × 6 columns</p>\n",
       "</div>"
      ],
      "text/plain": [
       "                 S           K         T         r     sigma    call_price\n",
       "0       216.496496  354.115947  0.099716  0.010808  0.427778  1.266835e-03\n",
       "1       414.654655  396.388692  0.169814  0.014444  0.402020  3.744634e+01\n",
       "2       202.762763  365.089082  1.139496  0.020505  0.298990  1.309998e+00\n",
       "3       279.769770  482.853413  0.318771  0.030000  0.058586  1.589297e-59\n",
       "4       361.681682  310.912327  2.967872  0.012222  0.376263  1.183423e+02\n",
       "...            ...         ...       ...       ...       ...           ...\n",
       "299995  411.711712  522.510367  0.169814  0.028384  0.693939  1.535299e+01\n",
       "299996  395.525526   52.845394  0.461887  0.028182  0.814141  3.433659e+02\n",
       "299997  405.335335  112.482308  2.161751  0.012626  0.513636  2.984205e+02\n",
       "299998   52.672673  116.859373  2.795549  0.025152  0.736869  1.447589e+01\n",
       "299999  486.756757   84.883035  1.247563  0.020505  0.161616  4.040176e+02\n",
       "\n",
       "[300000 rows x 6 columns]"
      ]
     },
     "execution_count": 205,
     "metadata": {},
     "output_type": "execute_result"
    }
   ],
   "source": [
    "data"
   ]
  },
  {
   "cell_type": "code",
   "execution_count": 206,
   "metadata": {},
   "outputs": [],
   "source": [
    "call_X_train, call_X_test, call_y_train, call_y_test = train_test_split(data.iloc[:,:-1], data.iloc[:,-1], test_size=0.1, random_state=42)"
   ]
  },
  {
   "cell_type": "code",
   "execution_count": 207,
   "metadata": {},
   "outputs": [],
   "source": [
    "model = Sequential()\n",
    "t_l = []\n",
    "v_l = []\n",
    "model.add(Dense(200, input_dim=call_X_train.shape[1]))\n",
    "model.add(LeakyReLU())\n",
    "model.add(Dense(200))\n",
    "model.add(ELU())\n",
    "model.add(Dense(200))\n",
    "model.add(ELU())\n",
    "model.add(Dense(200))\n",
    "model.add(ELU())\n",
    "model.add(Dense(1, activation='relu'))"
   ]
  },
  {
   "cell_type": "code",
   "execution_count": 208,
   "metadata": {},
   "outputs": [],
   "source": [
    "model.compile(loss='mse', optimizer=Adam(learning_rate=0.001))"
   ]
  },
  {
   "cell_type": "code",
   "execution_count": 209,
   "metadata": {},
   "outputs": [
    {
     "name": "stdout",
     "output_type": "stream",
     "text": [
      "Model: \"sequential_37\"\n",
      "_________________________________________________________________\n",
      " Layer (type)                Output Shape              Param #   \n",
      "=================================================================\n",
      " dense_183 (Dense)           (None, 200)               1200      \n",
      "                                                                 \n",
      " leaky_re_lu_41 (LeakyReLU)  (None, 200)               0         \n",
      "                                                                 \n",
      " dense_184 (Dense)           (None, 200)               40200     \n",
      "                                                                 \n",
      " elu_104 (ELU)               (None, 200)               0         \n",
      "                                                                 \n",
      " dense_185 (Dense)           (None, 200)               40200     \n",
      "                                                                 \n",
      " elu_105 (ELU)               (None, 200)               0         \n",
      "                                                                 \n",
      " dense_186 (Dense)           (None, 200)               40200     \n",
      "                                                                 \n",
      " elu_106 (ELU)               (None, 200)               0         \n",
      "                                                                 \n",
      " dense_187 (Dense)           (None, 1)                 201       \n",
      "                                                                 \n",
      "=================================================================\n",
      "Total params: 122,001\n",
      "Trainable params: 122,001\n",
      "Non-trainable params: 0\n",
      "_________________________________________________________________\n"
     ]
    }
   ],
   "source": [
    "model.summary()"
   ]
  },
  {
   "cell_type": "code",
   "execution_count": 210,
   "metadata": {},
   "outputs": [
    {
     "name": "stdout",
     "output_type": "stream",
     "text": [
      "Epoch 1/5\n"
     ]
    },
    {
     "name": "stderr",
     "output_type": "stream",
     "text": [
      "/Users/macongcong/opt/anaconda3/envs/tensorflow_silicon/lib/python3.9/site-packages/keras/engine/data_adapter.py:1696: FutureWarning: The behavior of `series[i:j]` with an integer-dtype index is deprecated. In a future version, this will be treated as *label-based* indexing, consistent with e.g. `series[i]` lookups. To retain the old behavior, use `series.iloc[i:j]`. To get the future behavior, use `series.loc[i:j]`.\n",
      "  return t[start:end]\n",
      "2023-04-16 22:09:26.285646: I tensorflow/core/grappler/optimizers/custom_graph_optimizer_registry.cc:114] Plugin optimizer for device_type GPU is enabled.\n"
     ]
    },
    {
     "name": "stdout",
     "output_type": "stream",
     "text": [
      "27/27 [==============================] - 2s 49ms/step - loss: 3254.6602 - val_loss: 748.3466\n",
      "Epoch 2/5\n",
      " 1/27 [>.............................] - ETA: 1s - loss: 721.9067"
     ]
    },
    {
     "name": "stderr",
     "output_type": "stream",
     "text": [
      "2023-04-16 22:09:27.701889: I tensorflow/core/grappler/optimizers/custom_graph_optimizer_registry.cc:114] Plugin optimizer for device_type GPU is enabled.\n"
     ]
    },
    {
     "name": "stdout",
     "output_type": "stream",
     "text": [
      "27/27 [==============================] - 1s 38ms/step - loss: 705.9234 - val_loss: 682.1752\n",
      "Epoch 3/5\n",
      "27/27 [==============================] - 1s 35ms/step - loss: 682.7288 - val_loss: 670.3167\n",
      "Epoch 4/5\n",
      "27/27 [==============================] - 1s 35ms/step - loss: 680.7444 - val_loss: 669.5855\n",
      "Epoch 5/5\n",
      "27/27 [==============================] - 1s 35ms/step - loss: 679.2148 - val_loss: 667.8466\n"
     ]
    }
   ],
   "source": [
    "history = model.fit(call_X_train, call_y_train,\n",
    "                    batch_size=10240, epochs=5,\n",
    "                    validation_split = 0.01,\n",
    "                    callbacks=[TensorBoard()],\n",
    "                    verbose=1)"
   ]
  },
  {
   "cell_type": "code",
   "execution_count": 211,
   "metadata": {},
   "outputs": [
    {
     "data": {
      "image/png": "[encoded data removed]",
      "text/plain": [
       "<Figure size 640x480 with 1 Axes>"
      ]
     },
     "metadata": {},
     "output_type": "display_data"
    }
   ],
   "source": [
    "train_loss = model.history.history['loss']\n",
    "val_loss = model.history.history['val_loss']\n",
    "t_l.extend(train_loss) # combining two lists\n",
    "v_l.extend(val_loss)\n",
    "plt.plot(t_l, label='Training loss')\n",
    "plt.plot(v_l, label='Validation loss')\n",
    "plt.xlabel('Epoch')\n",
    "plt.ylabel('Loss')\n",
    "plt.legend()\n",
    "plt.show()"
   ]
  },
  {
   "cell_type": "code",
   "execution_count": 213,
   "metadata": {},
   "outputs": [],
   "source": [
    "# models with batch normalization\n",
    "# model = Sequential()\n",
    "# t_l = []\n",
    "# v_l = []\n",
    "# model.add(Dense(200, input_dim=call_X_train.shape[1]))\n",
    "# model.add(BatchNormalization())\n",
    "# model.add(LeakyReLU())\n",
    "# model.add(Dense(200, input_dim=call_X_train.shape[1]))\n",
    "# model.add(BatchNormalization())\n",
    "# model.add(LeakyReLU())\n",
    "# model.add(Dense(200))\n",
    "# model.add(BatchNormalization())\n",
    "# model.add(ELU())\n",
    "# model.add(Dense(200))\n",
    "# model.add(BatchNormalization())\n",
    "# model.add(ELU())\n",
    "# model.add(Dense(1, activation='relu'))\n",
    "# model.compile(loss='mse', optimizer=Adam(learning_rate=0.001))\n",
    "model = Sequential()\n",
    "t_l = []\n",
    "v_l = []\n",
    "model.add(Dense(100, input_dim=call_X_train.shape[1]))\n",
    "model.add(BatchNormalization())\n",
    "model.add(LeakyReLU())\n",
    "model.add(Dense(200))\n",
    "model.add(BatchNormalization())\n",
    "model.add(ELU())\n",
    "\n",
    "#newly added\n",
    "model.add(Dropout(0.5))\n",
    "model.add(Dense(200))\n",
    "model.add(BatchNormalization())\n",
    "model.add(ELU())\n",
    "\n",
    "model.add(Dropout(0.5))\n",
    "model.add(Dense(300))\n",
    "model.add(BatchNormalization())\n",
    "model.add(ELU())\n",
    "model.add(Dropout(0.5))\n",
    "model.add(Dense(200))\n",
    "model.add(BatchNormalization())\n",
    "model.add(ELU())\n",
    "model.add(Dropout(0.5))\n",
    "model.add(Dense(200))\n",
    "model.add(BatchNormalization())\n",
    "model.add(ELU ())\n",
    "model.add(Dense(1, activation='relu'))\n",
    "model.compile(optimizer=Adam(learning_rate=0.001), loss=\"mape\")"
   ]
  },
  {
   "cell_type": "code",
   "execution_count": 214,
   "metadata": {},
   "outputs": [
    {
     "name": "stdout",
     "output_type": "stream",
     "text": [
      "Model: \"sequential_39\"\n",
      "_________________________________________________________________\n",
      " Layer (type)                Output Shape              Param #   \n",
      "=================================================================\n",
      " dense_195 (Dense)           (None, 100)               600       \n",
      "                                                                 \n",
      " batch_normalization_84 (Bat  (None, 100)              400       \n",
      " chNormalization)                                                \n",
      "                                                                 \n",
      " leaky_re_lu_43 (LeakyReLU)  (None, 100)               0         \n",
      "                                                                 \n",
      " dense_196 (Dense)           (None, 200)               20200     \n",
      "                                                                 \n",
      " batch_normalization_85 (Bat  (None, 200)              800       \n",
      " chNormalization)                                                \n",
      "                                                                 \n",
      " elu_112 (ELU)               (None, 200)               0         \n",
      "                                                                 \n",
      " dropout_16 (Dropout)        (None, 200)               0         \n",
      "                                                                 \n",
      " dense_197 (Dense)           (None, 200)               40200     \n",
      "                                                                 \n",
      " batch_normalization_86 (Bat  (None, 200)              800       \n",
      " chNormalization)                                                \n",
      "                                                                 \n",
      " elu_113 (ELU)               (None, 200)               0         \n",
      "                                                                 \n",
      " dropout_17 (Dropout)        (None, 200)               0         \n",
      "                                                                 \n",
      " dense_198 (Dense)           (None, 300)               60300     \n",
      "                                                                 \n",
      " batch_normalization_87 (Bat  (None, 300)              1200      \n",
      " chNormalization)                                                \n",
      "                                                                 \n",
      " elu_114 (ELU)               (None, 300)               0         \n",
      "                                                                 \n",
      " dropout_18 (Dropout)        (None, 300)               0         \n",
      "                                                                 \n",
      " dense_199 (Dense)           (None, 200)               60200     \n",
      "                                                                 \n",
      " batch_normalization_88 (Bat  (None, 200)              800       \n",
      " chNormalization)                                                \n",
      "                                                                 \n",
      " elu_115 (ELU)               (None, 200)               0         \n",
      "                                                                 \n",
      " dropout_19 (Dropout)        (None, 200)               0         \n",
      "                                                                 \n",
      " dense_200 (Dense)           (None, 200)               40200     \n",
      "                                                                 \n",
      " batch_normalization_89 (Bat  (None, 200)              800       \n",
      " chNormalization)                                                \n",
      "                                                                 \n",
      " elu_116 (ELU)               (None, 200)               0         \n",
      "                                                                 \n",
      " dense_201 (Dense)           (None, 1)                 201       \n",
      "                                                                 \n",
      "=================================================================\n",
      "Total params: 226,701\n",
      "Trainable params: 224,301\n",
      "Non-trainable params: 2,400\n",
      "_________________________________________________________________\n"
     ]
    }
   ],
   "source": [
    "model.summary()"
   ]
  },
  {
   "cell_type": "code",
   "execution_count": 217,
   "metadata": {},
   "outputs": [
    {
     "name": "stdout",
     "output_type": "stream",
     "text": [
      "Epoch 1/10\n"
     ]
    },
    {
     "name": "stderr",
     "output_type": "stream",
     "text": [
      "/Users/macongcong/opt/anaconda3/envs/tensorflow_silicon/lib/python3.9/site-packages/keras/engine/data_adapter.py:1696: FutureWarning: The behavior of `series[i:j]` with an integer-dtype index is deprecated. In a future version, this will be treated as *label-based* indexing, consistent with e.g. `series[i]` lookups. To retain the old behavior, use `series.iloc[i:j]`. To get the future behavior, use `series.loc[i:j]`.\n",
      "  return t[start:end]\n"
     ]
    },
    {
     "name": "stdout",
     "output_type": "stream",
     "text": [
      "14/14 [==============================] - 2s 158ms/step - loss: 97.7370 - val_loss: 92.0186\n",
      "Epoch 2/10\n",
      "14/14 [==============================] - 2s 137ms/step - loss: 104.9155 - val_loss: 92.0408\n",
      "Epoch 3/10\n",
      "14/14 [==============================] - 2s 132ms/step - loss: 92.6821 - val_loss: 92.0611\n",
      "Epoch 4/10\n",
      "14/14 [==============================] - 2s 142ms/step - loss: 1624.7689 - val_loss: 92.0702\n",
      "Epoch 5/10\n",
      "14/14 [==============================] - 2s 135ms/step - loss: 92.6759 - val_loss: 92.0793\n",
      "Epoch 6/10\n",
      "14/14 [==============================] - 2s 145ms/step - loss: 729.0607 - val_loss: 92.0850\n",
      "Epoch 7/10\n",
      "14/14 [==============================] - 2s 140ms/step - loss: 92.7299 - val_loss: 92.0944\n",
      "Epoch 8/10\n",
      "14/14 [==============================] - 2s 155ms/step - loss: 92.6754 - val_loss: 92.1066\n",
      "Epoch 9/10\n",
      "14/14 [==============================] - 2s 134ms/step - loss: 92.7023 - val_loss: 92.1178\n",
      "Epoch 10/10\n",
      "14/14 [==============================] - 2s 133ms/step - loss: 92.6702 - val_loss: 92.1267\n"
     ]
    }
   ],
   "source": [
    "history = model.fit(call_X_train, call_y_train,\n",
    "                    batch_size=20480, epochs=10,\n",
    "                    validation_split = 0.01,\n",
    "                    callbacks=[TensorBoard()],\n",
    "                    verbose=1)"
   ]
  },
  {
   "cell_type": "code",
   "execution_count": 173,
   "metadata": {},
   "outputs": [
    {
     "name": "stdout",
     "output_type": "stream",
     "text": [
      "938/938 [==============================] - 4s 4ms/step\n"
     ]
    }
   ],
   "source": [
    "call_y_pred = model.predict(call_X_test)"
   ]
  },
  {
   "cell_type": "code",
   "execution_count": 174,
   "metadata": {},
   "outputs": [
    {
     "data": {
      "text/html": [
       "<div>\n",
       "<style scoped>\n",
       "    .dataframe tbody tr th:only-of-type {\n",
       "        vertical-align: middle;\n",
       "    }\n",
       "\n",
       "    .dataframe tbody tr th {\n",
       "        vertical-align: top;\n",
       "    }\n",
       "\n",
       "    .dataframe thead th {\n",
       "        text-align: right;\n",
       "    }\n",
       "</style>\n",
       "<table border=\"1\" class=\"dataframe\">\n",
       "  <thead>\n",
       "    <tr style=\"text-align: right;\">\n",
       "      <th></th>\n",
       "      <th>0</th>\n",
       "    </tr>\n",
       "  </thead>\n",
       "  <tbody>\n",
       "    <tr>\n",
       "      <th>0</th>\n",
       "      <td>361.625763</td>\n",
       "    </tr>\n",
       "    <tr>\n",
       "      <th>1</th>\n",
       "      <td>64.671814</td>\n",
       "    </tr>\n",
       "    <tr>\n",
       "      <th>2</th>\n",
       "      <td>191.469696</td>\n",
       "    </tr>\n",
       "    <tr>\n",
       "      <th>3</th>\n",
       "      <td>159.951096</td>\n",
       "    </tr>\n",
       "    <tr>\n",
       "      <th>4</th>\n",
       "      <td>278.238556</td>\n",
       "    </tr>\n",
       "    <tr>\n",
       "      <th>...</th>\n",
       "      <td>...</td>\n",
       "    </tr>\n",
       "    <tr>\n",
       "      <th>29995</th>\n",
       "      <td>147.752991</td>\n",
       "    </tr>\n",
       "    <tr>\n",
       "      <th>29996</th>\n",
       "      <td>0.000000</td>\n",
       "    </tr>\n",
       "    <tr>\n",
       "      <th>29997</th>\n",
       "      <td>14.036963</td>\n",
       "    </tr>\n",
       "    <tr>\n",
       "      <th>29998</th>\n",
       "      <td>226.771240</td>\n",
       "    </tr>\n",
       "    <tr>\n",
       "      <th>29999</th>\n",
       "      <td>0.000000</td>\n",
       "    </tr>\n",
       "  </tbody>\n",
       "</table>\n",
       "<p>30000 rows × 1 columns</p>\n",
       "</div>"
      ],
      "text/plain": [
       "                0\n",
       "0      361.625763\n",
       "1       64.671814\n",
       "2      191.469696\n",
       "3      159.951096\n",
       "4      278.238556\n",
       "...           ...\n",
       "29995  147.752991\n",
       "29996    0.000000\n",
       "29997   14.036963\n",
       "29998  226.771240\n",
       "29999    0.000000\n",
       "\n",
       "[30000 rows x 1 columns]"
      ]
     },
     "execution_count": 174,
     "metadata": {},
     "output_type": "execute_result"
    }
   ],
   "source": [
    "pd.DataFrame(call_y_pred)"
   ]
  },
  {
   "cell_type": "code",
   "execution_count": 175,
   "metadata": {},
   "outputs": [
    {
     "data": {
      "text/html": [
       "<div>\n",
       "<style scoped>\n",
       "    .dataframe tbody tr th:only-of-type {\n",
       "        vertical-align: middle;\n",
       "    }\n",
       "\n",
       "    .dataframe tbody tr th {\n",
       "        vertical-align: top;\n",
       "    }\n",
       "\n",
       "    .dataframe thead th {\n",
       "        text-align: right;\n",
       "    }\n",
       "</style>\n",
       "<table border=\"1\" class=\"dataframe\">\n",
       "  <thead>\n",
       "    <tr style=\"text-align: right;\">\n",
       "      <th></th>\n",
       "      <th>call_price</th>\n",
       "    </tr>\n",
       "  </thead>\n",
       "  <tbody>\n",
       "    <tr>\n",
       "      <th>4941</th>\n",
       "      <td>3.397571e+02</td>\n",
       "    </tr>\n",
       "    <tr>\n",
       "      <th>51775</th>\n",
       "      <td>4.680649e+01</td>\n",
       "    </tr>\n",
       "    <tr>\n",
       "      <th>115253</th>\n",
       "      <td>1.721534e+02</td>\n",
       "    </tr>\n",
       "    <tr>\n",
       "      <th>299321</th>\n",
       "      <td>1.473695e+02</td>\n",
       "    </tr>\n",
       "    <tr>\n",
       "      <th>173570</th>\n",
       "      <td>2.630937e+02</td>\n",
       "    </tr>\n",
       "    <tr>\n",
       "      <th>...</th>\n",
       "      <td>...</td>\n",
       "    </tr>\n",
       "    <tr>\n",
       "      <th>199500</th>\n",
       "      <td>1.403368e+02</td>\n",
       "    </tr>\n",
       "    <tr>\n",
       "      <th>244038</th>\n",
       "      <td>1.296623e-02</td>\n",
       "    </tr>\n",
       "    <tr>\n",
       "      <th>79446</th>\n",
       "      <td>1.067921e+01</td>\n",
       "    </tr>\n",
       "    <tr>\n",
       "      <th>276390</th>\n",
       "      <td>2.134077e+02</td>\n",
       "    </tr>\n",
       "    <tr>\n",
       "      <th>144864</th>\n",
       "      <td>2.175513e-10</td>\n",
       "    </tr>\n",
       "  </tbody>\n",
       "</table>\n",
       "<p>30000 rows × 1 columns</p>\n",
       "</div>"
      ],
      "text/plain": [
       "          call_price\n",
       "4941    3.397571e+02\n",
       "51775   4.680649e+01\n",
       "115253  1.721534e+02\n",
       "299321  1.473695e+02\n",
       "173570  2.630937e+02\n",
       "...              ...\n",
       "199500  1.403368e+02\n",
       "244038  1.296623e-02\n",
       "79446   1.067921e+01\n",
       "276390  2.134077e+02\n",
       "144864  2.175513e-10\n",
       "\n",
       "[30000 rows x 1 columns]"
      ]
     },
     "execution_count": 175,
     "metadata": {},
     "output_type": "execute_result"
    }
   ],
   "source": [
    "pd.DataFrame(call_y_test)"
   ]
  },
  {
   "cell_type": "code",
   "execution_count": null,
   "metadata": {},
   "outputs": [],
   "source": []
  }
 ],
 "metadata": {
  "kernelspec": {
   "display_name": "Python 3 (ipykernel)",
   "language": "python",
   "name": "python3"
  },
  "language_info": {
   "codemirror_mode": {
    "name": "ipython",
    "version": 3
   },
   "file_extension": ".py",
   "mimetype": "text/x-python",
   "name": "python",
   "nbconvert_exporter": "python",
   "pygments_lexer": "ipython3",
   "version": "3.9.16"
  }
 },
 "nbformat": 4,
 "nbformat_minor": 1
}
