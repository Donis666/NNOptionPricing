{
 "cells": [
  {
   "cell_type": "code",
   "execution_count": 1,
   "id": "22d0bc4a",
   "metadata": {},
   "outputs": [],
   "source": [
    "from math import log, sqrt, pi, exp\n",
    "from scipy.stats import norm\n",
    "from datetime import datetime, date\n",
    "import numpy as np\n",
    "import pandas as pd\n",
    "from pandas import DataFrame\n"
   ]
  },
  {
   "cell_type": "code",
   "execution_count": 2,
   "id": "93ed156d",
   "metadata": {},
   "outputs": [],
   "source": [
    "def d1(S,K,T,r,sigma):\n",
    "    return(log(S/K)+(r+sigma**2/2.)*T)/(sigma*sqrt(T))\n",
    "def d2(S,K,T,r,sigma):\n",
    "    return d1(S,K,T,r,sigma)-sigma*sqrt(T)"
   ]
  },
  {
   "cell_type": "code",
   "execution_count": 3,
   "id": "a2880a12",
   "metadata": {
    "jupyter": {
     "outputs_hidden": false
    }
   },
   "outputs": [],
   "source": [
    "\n",
    "def bs_call(S,K,T,r,sigma):\n",
    "    return S*norm.cdf(d1(S,K,T,r,sigma))-K*exp(-r*T)*norm.cdf(d2(S,K,T,r,sigma))\n",
    "\n",
    "def bs_put(S,K,T,r,sigma):\n",
    "    return K*exp(-r*T)-S*bs_call(S,K,T,r,sigma)"
   ]
  },
  {
   "cell_type": "code",
   "execution_count": 4,
   "id": "7674ec07",
   "metadata": {
    "jupyter": {
     "outputs_hidden": false
    }
   },
   "outputs": [],
   "source": [
    "S = np.linspace(10, 500, num = 1000)\n",
    "K = np.linspace(7, 650, num = 1000)\n",
    "T = np.linspace(1/365, 3, num= 1000)\n",
    "r = np.linspace(0.01, 0.03, num=100)\n",
    "sigma = np.linspace(0.05, 0.9, num=1000)\n",
    "l = [S, K, T, r, sigma]"
   ]
  },
  {
   "cell_type": "code",
   "execution_count": 5,
   "id": "adefc6af",
   "metadata": {
    "jupyter": {
     "outputs_hidden": false
    }
   },
   "outputs": [],
   "source": [
    "# generate paramters\n",
    "# set random states so that the results are reproducible\n",
    "np.random.seed(42)\n",
    "param_List = []\n",
    "for i in range(300000):\n",
    "    params = []\n",
    "    for p in l:\n",
    "        params.append(np.random.choice(p))\n",
    "    param_List.append(params)\n"
   ]
  },
  {
   "cell_type": "code",
   "execution_count": 6,
   "id": "2fe1b02d",
   "metadata": {
    "jupyter": {
     "outputs_hidden": false
    }
   },
   "outputs": [],
   "source": [
    "# for each group of paramters, compute and then append call price\n",
    "data = param_List\n",
    "for i in range(len(data)):\n",
    "    data[i].append(bs_call(*data[i]))"
   ]
  },
  {
   "cell_type": "code",
   "execution_count": 7,
   "id": "43fbbffa",
   "metadata": {
    "jupyter": {
     "outputs_hidden": false
    }
   },
   "outputs": [],
   "source": [
    "df = pd.DataFrame(data)"
   ]
  },
  {
   "cell_type": "code",
   "execution_count": 8,
   "id": "70fd12d1",
   "metadata": {
    "jupyter": {
     "outputs_hidden": false
    }
   },
   "outputs": [],
   "source": [
    "df.columns = [\"S\", \"K\", \"T\", \"r\", \"sigma\", 'call_price']"
   ]
  },
  {
   "cell_type": "code",
   "execution_count": 8,
   "id": "f34090c9",
   "metadata": {
    "jupyter": {
     "outputs_hidden": false
    }
   },
   "outputs": [],
   "source": [
    "df.to_csv(\"\")"
   ]
  },
  {
   "cell_type": "code",
   "execution_count": 9,
   "id": "d060e551",
   "metadata": {
    "jupyter": {
     "outputs_hidden": false
    }
   },
   "outputs": [
    {
     "data": {
      "text/html": [
       "<div>\n",
       "<style scoped>\n",
       "    .dataframe tbody tr th:only-of-type {\n",
       "        vertical-align: middle;\n",
       "    }\n",
       "\n",
       "    .dataframe tbody tr th {\n",
       "        vertical-align: top;\n",
       "    }\n",
       "\n",
       "    .dataframe thead th {\n",
       "        text-align: right;\n",
       "    }\n",
       "</style>\n",
       "<table border=\"1\" class=\"dataframe\">\n",
       "  <thead>\n",
       "    <tr style=\"text-align: right;\">\n",
       "      <th></th>\n",
       "      <th>S</th>\n",
       "      <th>K</th>\n",
       "      <th>T</th>\n",
       "      <th>r</th>\n",
       "      <th>sigma</th>\n",
       "      <th>call_price</th>\n",
       "    </tr>\n",
       "  </thead>\n",
       "  <tbody>\n",
       "    <tr>\n",
       "      <th>0</th>\n",
       "      <td>60.030030</td>\n",
       "      <td>286.984985</td>\n",
       "      <td>2.582964</td>\n",
       "      <td>0.012828</td>\n",
       "      <td>0.140190</td>\n",
       "      <td>2.180456e-11</td>\n",
       "    </tr>\n",
       "    <tr>\n",
       "      <th>1</th>\n",
       "      <td>44.824825</td>\n",
       "      <td>457.550551</td>\n",
       "      <td>0.062745</td>\n",
       "      <td>0.026566</td>\n",
       "      <td>0.232082</td>\n",
       "      <td>0.000000e+00</td>\n",
       "    </tr>\n",
       "    <tr>\n",
       "      <th>2</th>\n",
       "      <td>171.861862</td>\n",
       "      <td>301.788789</td>\n",
       "      <td>0.263762</td>\n",
       "      <td>0.030000</td>\n",
       "      <td>0.791091</td>\n",
       "      <td>3.585645e+00</td>\n",
       "    </tr>\n",
       "    <tr>\n",
       "      <th>3</th>\n",
       "      <td>335.195195</td>\n",
       "      <td>90.673674</td>\n",
       "      <td>1.985912</td>\n",
       "      <td>0.020505</td>\n",
       "      <td>0.704304</td>\n",
       "      <td>2.543884e+02</td>\n",
       "    </tr>\n",
       "    <tr>\n",
       "      <th>4</th>\n",
       "      <td>178.238238</td>\n",
       "      <td>323.029029</td>\n",
       "      <td>1.241847</td>\n",
       "      <td>0.017475</td>\n",
       "      <td>0.377578</td>\n",
       "      <td>3.921661e+00</td>\n",
       "    </tr>\n",
       "    <tr>\n",
       "      <th>5</th>\n",
       "      <td>103.683684</td>\n",
       "      <td>621.679680</td>\n",
       "      <td>0.830812</td>\n",
       "      <td>0.016465</td>\n",
       "      <td>0.440541</td>\n",
       "      <td>9.867769e-05</td>\n",
       "    </tr>\n",
       "    <tr>\n",
       "      <th>6</th>\n",
       "      <td>163.523524</td>\n",
       "      <td>20.516517</td>\n",
       "      <td>0.758805</td>\n",
       "      <td>0.027778</td>\n",
       "      <td>0.526476</td>\n",
       "      <td>1.434349e+02</td>\n",
       "    </tr>\n",
       "    <tr>\n",
       "      <th>7</th>\n",
       "      <td>242.492492</td>\n",
       "      <td>44.331331</td>\n",
       "      <td>1.532873</td>\n",
       "      <td>0.018283</td>\n",
       "      <td>0.454154</td>\n",
       "      <td>1.994027e+02</td>\n",
       "    </tr>\n",
       "    <tr>\n",
       "      <th>8</th>\n",
       "      <td>352.852853</td>\n",
       "      <td>634.552553</td>\n",
       "      <td>2.348943</td>\n",
       "      <td>0.022323</td>\n",
       "      <td>0.864264</td>\n",
       "      <td>1.261935e+02</td>\n",
       "    </tr>\n",
       "    <tr>\n",
       "      <th>9</th>\n",
       "      <td>346.476476</td>\n",
       "      <td>622.966967</td>\n",
       "      <td>1.688886</td>\n",
       "      <td>0.020909</td>\n",
       "      <td>0.256757</td>\n",
       "      <td>3.092870e+00</td>\n",
       "    </tr>\n",
       "  </tbody>\n",
       "</table>\n",
       "</div>"
      ],
      "text/plain": [
       "            S           K         T         r     sigma    call_price\n",
       "0   60.030030  286.984985  2.582964  0.012828  0.140190  2.180456e-11\n",
       "1   44.824825  457.550551  0.062745  0.026566  0.232082  0.000000e+00\n",
       "2  171.861862  301.788789  0.263762  0.030000  0.791091  3.585645e+00\n",
       "3  335.195195   90.673674  1.985912  0.020505  0.704304  2.543884e+02\n",
       "4  178.238238  323.029029  1.241847  0.017475  0.377578  3.921661e+00\n",
       "5  103.683684  621.679680  0.830812  0.016465  0.440541  9.867769e-05\n",
       "6  163.523524   20.516517  0.758805  0.027778  0.526476  1.434349e+02\n",
       "7  242.492492   44.331331  1.532873  0.018283  0.454154  1.994027e+02\n",
       "8  352.852853  634.552553  2.348943  0.022323  0.864264  1.261935e+02\n",
       "9  346.476476  622.966967  1.688886  0.020909  0.256757  3.092870e+00"
      ]
     },
     "execution_count": 9,
     "metadata": {},
     "output_type": "execute_result"
    }
   ],
   "source": [
    "df.head(10)"
   ]
  },
  {
   "cell_type": "code",
   "execution_count": 10,
   "id": "804ca489",
   "metadata": {
    "jupyter": {
     "outputs_hidden": false
    }
   },
   "outputs": [],
   "source": [
    "df.to_csv(\"BS_Simulated_data.csv\")"
   ]
  },
  {
   "cell_type": "code",
   "execution_count": null,
   "id": "608f9607",
   "metadata": {
    "jupyter": {
     "outputs_hidden": false
    }
   },
   "outputs": [],
   "source": []
  }
 ],
 "metadata": {
  "kernelspec": {
   "display_name": "Python 3 (ipykernel)",
   "language": "python",
   "name": "python3"
  },
  "language_info": {
   "codemirror_mode": {
    "name": "ipython",
    "version": 3
   },
   "file_extension": ".py",
   "mimetype": "text/x-python",
   "name": "python",
   "nbconvert_exporter": "python",
   "pygments_lexer": "ipython3",
   "version": "3.10.9"
  }
 },
 "nbformat": 4,
 "nbformat_minor": 5
}
