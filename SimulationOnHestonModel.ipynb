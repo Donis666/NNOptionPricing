{
 "cells": [
  {
   "cell_type": "code",
   "execution_count": 17,
   "id": "8035ad4c",
   "metadata": {},
   "outputs": [],
   "source": [
    "from math import log, sqrt, pi, exp\n",
    "from scipy.stats import norm\n",
    "from datetime import datetime, date\n",
    "import numpy as np\n",
    "import pandas as pd\n",
    "from pandas import DataFrame\n",
    "#from numba import jit"
   ]
  },
  {
   "cell_type": "code",
   "execution_count": 18,
   "id": "6e2eaad2",
   "metadata": {},
   "outputs": [],
   "source": [
    "def generate_heston_paths(S, T, r, kappa, theta, v_0, rho, xi, \n",
    "                          steps, Npaths, return_vol=False):\n",
    "    dt = T/steps\n",
    "    size = (Npaths, steps)\n",
    "    prices = np.zeros(size)\n",
    "    sigs = np.zeros(size)\n",
    "    S_t = S\n",
    "    v_t = v_0\n",
    "    for t in range(steps):\n",
    "        WT = np.random.multivariate_normal(np.array([0,0]), \n",
    "                                           cov = np.array([[1,rho],\n",
    "                                                          [rho,1]]), \n",
    "                                           size=Npaths) * np.sqrt(dt) \n",
    "        \n",
    "        S_t = S_t*(np.exp( (r- 0.5*v_t)*dt+ np.sqrt(v_t) *WT[:,0] ) ) \n",
    "        v_t = np.abs(v_t + kappa*(theta-v_t)*dt + xi*np.sqrt(v_t)*WT[:,1])\n",
    "        prices[:, t] = S_t\n",
    "        sigs[:, t] = v_t\n",
    "    \n",
    "    \n",
    "    return prices"
   ]
  },
  {
   "cell_type": "code",
   "execution_count": 19,
   "id": "78f205a4",
   "metadata": {},
   "outputs": [],
   "source": [
    "def heston_call(S, K, T, r, kappa, theta, v_0, rho, xi):\n",
    "    prices_pos = generate_heston_paths(S, T, r, kappa, theta,\n",
    "                                    v_0, rho, xi, steps=2000, Npaths=20000,\n",
    "                                    return_vol=False)[:,-1]\n",
    "    return np.mean(np.maximum(K-prices_pos, 0))*np.exp(-r*T)"
   ]
  },
  {
   "cell_type": "code",
   "execution_count": 20,
   "id": "9583199c",
   "metadata": {},
   "outputs": [
    {
     "data": {
      "text/plain": [
       "0"
      ]
     },
     "execution_count": 20,
     "metadata": {},
     "output_type": "execute_result"
    }
   ],
   "source": [
    "np.maximum(-1,0)"
   ]
  },
  {
   "cell_type": "code",
   "execution_count": 21,
   "id": "16165e91",
   "metadata": {},
   "outputs": [],
   "source": [
    "S_v = np.linspace(10, 500, num = 1000)\n",
    "T_v = np.linspace(1/12, 3, num= 1000)\n",
    "r_v = np.linspace(0.01, 0.1, num=100)\n",
    "v_0_v = np.linspace(0.05, 0.9, num=100)\n",
    "theta_v = np.linspace(0.01, 0.8, num = 100)\n",
    "kappa_v = np.linspace(0, 10, num = 100)\n",
    "rho_v = np.linspace(-0.99, 0.99, num = 1000)\n",
    "# xi < 2 * theta * kappa\n",
    "l = [S_v, T_v, r_v, v_0_v, theta_v, kappa_v, rho_v]"
   ]
  },
  {
   "cell_type": "code",
   "execution_count": 26,
   "id": "1dcbfcf9",
   "metadata": {},
   "outputs": [],
   "source": [
    "param_List = []\n",
    "for i in range(10000):\n",
    "    params = []\n",
    "    for p in l:\n",
    "        params.append(np.random.choice(p))\n",
    "    param_List.append(params)"
   ]
  },
  {
   "cell_type": "code",
   "execution_count": 27,
   "id": "bcb3b39f",
   "metadata": {},
   "outputs": [],
   "source": [
    "np.random.seed(10086)\n",
    "for params in param_List:\n",
    "    S = params[0]\n",
    "    T = params[1]\n",
    "    t = np.random.choice(np.linspace(1/12, T, num= 1000))\n",
    "    q = np.random.choice(np.linspace(-0.2, 0.2, num= 1000))\n",
    "    K = np.exp(q * t) * S\n",
    "    params.insert(1, K)\n",
    "    theta = params[-3]\n",
    "    kappa = params[-2]\n",
    "    xi = np.random.choice(np.linspace(0, np.sqrt(2 * theta * kappa), num= 1000))\n",
    "    params.append(xi)"
   ]
  },
  {
   "cell_type": "code",
   "execution_count": 28,
   "id": "14be60d8",
   "metadata": {
    "scrolled": false
   },
   "outputs": [
    {
     "data": {
      "text/plain": [
       "[104.17417417417417,\n",
       " 96.21876252042333,\n",
       " 2.964964964964965,\n",
       " 0.034545454545454546,\n",
       " 0.17878787878787877,\n",
       " 0.16959595959595963,\n",
       " 1.1111111111111112,\n",
       " -0.9761261261261261,\n",
       " 0.38960566544416725]"
      ]
     },
     "execution_count": 28,
     "metadata": {},
     "output_type": "execute_result"
    }
   ],
   "source": [
    "param_List[2]\n",
    "# S, K, T, r, v_0, theta, kappa, rho, xi"
   ]
  },
  {
   "cell_type": "code",
   "execution_count": 29,
   "id": "30324ce2",
   "metadata": {},
   "outputs": [
    {
     "name": "stderr",
     "output_type": "stream",
     "text": [
      "100%|███████████████████████████████████| 10000/10000 [6:22:49<00:00,  2.30s/it]\n"
     ]
    }
   ],
   "source": [
    "for params in tqdm(param_List):\n",
    "    S = params[0]\n",
    "    K = params[1]\n",
    "    T = params[2]\n",
    "    r = params[3]\n",
    "    v_0 = params[4]\n",
    "    theta = params[5]\n",
    "    kappa = params[6]\n",
    "    rho = params[7]\n",
    "    xi = params[8]\n",
    "    call_price = heston_call(S, K, T, r, kappa, theta, v_0, rho, xi)\n",
    "    params.append(call_price)"
   ]
  },
  {
   "cell_type": "code",
   "execution_count": 30,
   "id": "c2540b9b",
   "metadata": {},
   "outputs": [],
   "source": [
    "import pandas as pd\n",
    "df = pd.DataFrame(param_List)"
   ]
  },
  {
   "cell_type": "code",
   "execution_count": 31,
   "id": "bc41a738",
   "metadata": {},
   "outputs": [],
   "source": [
    "df.columns = [\"S\", \"K\", \"T\", \"r\", \"v_0\", \"theta\", \"kappa\", \"rho\", \"xi\", \"call_price\"]"
   ]
  },
  {
   "cell_type": "code",
   "execution_count": 32,
   "id": "63f4930a",
   "metadata": {},
   "outputs": [
    {
     "data": {
      "text/html": [
       "<div>\n",
       "<style scoped>\n",
       "    .dataframe tbody tr th:only-of-type {\n",
       "        vertical-align: middle;\n",
       "    }\n",
       "\n",
       "    .dataframe tbody tr th {\n",
       "        vertical-align: top;\n",
       "    }\n",
       "\n",
       "    .dataframe thead th {\n",
       "        text-align: right;\n",
       "    }\n",
       "</style>\n",
       "<table border=\"1\" class=\"dataframe\">\n",
       "  <thead>\n",
       "    <tr style=\"text-align: right;\">\n",
       "      <th></th>\n",
       "      <th>S</th>\n",
       "      <th>K</th>\n",
       "      <th>T</th>\n",
       "      <th>r</th>\n",
       "      <th>v_0</th>\n",
       "      <th>theta</th>\n",
       "      <th>kappa</th>\n",
       "      <th>rho</th>\n",
       "      <th>xi</th>\n",
       "      <th>call_price</th>\n",
       "    </tr>\n",
       "  </thead>\n",
       "  <tbody>\n",
       "  </tbody>\n",
       "</table>\n",
       "</div>"
      ],
      "text/plain": [
       "Empty DataFrame\n",
       "Columns: [S, K, T, r, v_0, theta, kappa, rho, xi, call_price]\n",
       "Index: []"
      ]
     },
     "execution_count": 32,
     "metadata": {},
     "output_type": "execute_result"
    }
   ],
   "source": [
    "df[df[\"call_price\"] < 0]"
   ]
  },
  {
   "cell_type": "code",
   "execution_count": 33,
   "id": "2cc0b3e8",
   "metadata": {},
   "outputs": [
    {
     "data": {
      "text/plain": [
       "146.78932494853728"
      ]
     },
     "execution_count": 33,
     "metadata": {},
     "output_type": "execute_result"
    }
   ],
   "source": [
    "heston_call(446.536537, 470.380893, 1.37671, 0.021818, 8.080808, 0.432929, 0.771212, 0.9, 0.908196)"
   ]
  },
  {
   "cell_type": "code",
   "execution_count": 34,
   "id": "b3997288",
   "metadata": {},
   "outputs": [
    {
     "data": {
      "text/plain": [
       "0.0"
      ]
     },
     "execution_count": 34,
     "metadata": {},
     "output_type": "execute_result"
    }
   ],
   "source": [
    "np.max([455.04167197953547 - 470.380893, 0])"
   ]
  },
  {
   "cell_type": "code",
   "execution_count": 35,
   "id": "fc32a3d5",
   "metadata": {},
   "outputs": [],
   "source": [
    "df.to_csv(\"HestonSimulation2.csv\")"
   ]
  },
  {
   "cell_type": "code",
   "execution_count": null,
   "id": "4f17663b",
   "metadata": {},
   "outputs": [],
   "source": []
  }
 ],
 "metadata": {
  "kernelspec": {
   "display_name": "Python 3 (ipykernel)",
   "language": "python",
   "name": "python3"
  },
  "language_info": {
   "codemirror_mode": {
    "name": "ipython",
    "version": 3
   },
   "file_extension": ".py",
   "mimetype": "text/x-python",
   "name": "python",
   "nbconvert_exporter": "python",
   "pygments_lexer": "ipython3",
   "version": "3.9.16"
  }
 },
 "nbformat": 4,
 "nbformat_minor": 5
}
